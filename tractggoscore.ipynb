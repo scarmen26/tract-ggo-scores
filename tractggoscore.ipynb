{
 "cells": [
  {
   "cell_type": "code",
   "execution_count": 1,
   "metadata": {},
   "outputs": [
    {
     "name": "stdout",
     "output_type": "stream",
     "text": [
      "/Users/karminsalazar/Desktop/Masters_Thesis\n"
     ]
    }
   ],
   "source": [
    "cd \"/Users/karminsalazar/Desktop/Masters_Thesis\""
   ]
  },
  {
   "cell_type": "code",
   "execution_count": 2,
   "metadata": {},
   "outputs": [
    {
     "name": "stdout",
     "output_type": "stream",
     "text": [
      "(37 vars, 303 obs)\n"
     ]
    }
   ],
   "source": [
    "import excel \"Transposed_Tract_data.xlsx\", sheet(\"Sheet1\") firstrow"
   ]
  },
  {
   "cell_type": "code",
   "execution_count": 3,
   "metadata": {},
   "outputs": [
    {
     "name": "stdout",
     "output_type": "stream",
     "text": [
      "\n",
      "Contains data\n",
      "  obs:           303                          \n",
      " vars:            37                          \n",
      "---------------------------------------------------------------------------------------------------------------------------------------------------------------------------------------------------------------------------------------------------------------\n",
      "              storage   display    value\n",
      "variable name   type    format     label      variable label\n",
      "---------------------------------------------------------------------------------------------------------------------------------------------------------------------------------------------------------------------------------------------------------------\n",
      "Tract           double  %10.0g                Tract\n",
      "Observer        str16   %16s                  Observer\n",
      "GoogleorIRL     str12   %12s                  Google or IRL\n",
      "BlockFaceDire~n str20   %20s                  Block Face Direction\n",
      "Streetaddress   str88   %88s                  Street address\n",
      "Imagemonth      str10   %10s                  Image month\n",
      "Imageyear       str10   %10s                  Image year\n",
      "Primarylanduse  str14   %14s                  Primary land use\n",
      "Numberofstruc~s byte    %10.0g                Number of structures\n",
      "NumberofResid~e byte    %10.0g                Number of Residential structures\n",
      "Multifamilyun~s byte    %10.0g                # Multi-family units\n",
      "ofStructuresc~d str2    %9s                   # of Structures considered old:\n",
      "oldresidences~e byte    %10.0g                # old residences w minor upgrades\n",
      "residenceswma~s byte    %10.0g                # residences w major upgrades\n",
      "residenceswne~u byte    %10.0g                # residences w new patio furniture or landscaping\n",
      "ofStructuresw~e byte    %10.0g                # of Structures w metal gates/fences\n",
      "structureswit~o byte    %10.0g                # structures with minor exterior decay\n",
      "structureswit~r byte    %10.0g                # structures with major exterior decay\n",
      "abandonedboar~p byte    %10.0g                # abandoned/ boarded up\n",
      "Newsignsstruc~n byte    %10.0g                New signs/structures controllling traffic\n",
      "Newpubliccour~s byte    %10.0g                New public courtesies\n",
      "Newlargescale~t byte    %10.0g                New large-scale development\n",
      "Signsdiscoura~r byte    %10.0g                Signs discouraging disorder\n",
      "Vacantareaand~e byte    %10.0g                Vacant area and public street beutification\n",
      "Litter          byte    %10.0g                Litter\n",
      "Unkemptvacant~t byte    %10.0g                Unkempt vacant area or public st. frontage\n",
      "Commercialuse~u byte    %10.0g                 Commercial uses aligned w cultural aspects of gentrification\n",
      "DescribeComme~s str46   %46s                  Describe Commercial uses\n",
      "Indicatoroffo~e byte    %10.0g                Indicator of foreign presence\n",
      "Describeindic~p str37   %37s                  Describe indicators of foreign presence\n",
      "Visiblepeople   byte    %10.0g                Visible people?\n",
      "Describevisib~e str182  %182s                 Describe visible people\n",
      "Distinctincon~G str78   %78s                  Distinct inconsistencies among G.S.V images?\n",
      "Yearsavailabl~e str97   %97s                  Years available for block face?\n",
      "Majordifferen~m byte    %10.0g                Major difference b/w previous image yrs. and the most recent yr.?\n",
      "IfyesbrieflyD~e str156  %156s                 If yes, briefly Describe difference b/w image yrs.\n",
      "AK              byte    %10.0g                \n",
      "---------------------------------------------------------------------------------------------------------------------------------------------------------------------------------------------------------------------------------------------------------------\n",
      "Sorted by: \n",
      "     Note: Dataset has changed since last saved.\n"
     ]
    }
   ],
   "source": [
    "describe"
   ]
  },
  {
   "cell_type": "code",
   "execution_count": 4,
   "metadata": {},
   "outputs": [
    {
     "name": "stdout",
     "output_type": "stream",
     "text": [
      "\n",
      "  Primary land |\n",
      "           use |      Freq.     Percent        Cum.\n",
      "---------------+-----------------------------------\n",
      "    Commercial |         22        7.33        7.33\n",
      "   Commercial  |          4        1.33        8.67\n",
      "    Commerical |          3        1.00        9.67\n",
      "   Commerical  |          2        0.67       10.33\n",
      "    Industrial |          1        0.33       10.67\n",
      " Institutional |         11        3.67       14.33\n",
      "Institutional  |          3        1.00       15.33\n",
      "         Mixed |         19        6.33       21.67\n",
      "        Mixed  |          2        0.67       22.33\n",
      "         Other |         18        6.00       28.33\n",
      "        Other  |          1        0.33       28.67\n",
      "   Residential |         52       17.33       46.00\n",
      "  Residential  |        162       54.00      100.00\n",
      "---------------+-----------------------------------\n",
      "         Total |        300      100.00\n"
     ]
    }
   ],
   "source": [
    "tab Primarylanduse "
   ]
  },
  {
   "cell_type": "code",
   "execution_count": 5,
   "metadata": {},
   "outputs": [
    {
     "name": "stdout",
     "output_type": "stream",
     "text": [
      "\n",
      "\n",
      "(26 real changes made)\n",
      "\n",
      "\n",
      "\n",
      " Commercial |\n",
      "       uses |\n",
      "    aligned |\n",
      "       with |\n",
      "gentrificat |\n",
      "        ion |      Freq.     Percent        Cum.\n",
      "------------+-----------------------------------\n",
      "          0 |        277       91.42       91.42\n",
      "          1 |         26        8.58      100.00\n",
      "------------+-----------------------------------\n",
      "      Total |        303      100.00\n",
      "\n",
      "\n",
      "               |    Commercial uses\n",
      "               |     aligned with\n",
      "  Primary land |    gentrification\n",
      "           use |         0          1 |     Total\n",
      "---------------+----------------------+----------\n",
      "    Commercial |         0         22 |        22 \n",
      "   Commercial  |         0          4 |         4 \n",
      "    Commerical |         3          0 |         3 \n",
      "   Commerical  |         2          0 |         2 \n",
      "    Industrial |         1          0 |         1 \n",
      " Institutional |        11          0 |        11 \n",
      "Institutional  |         3          0 |         3 \n",
      "         Mixed |        19          0 |        19 \n",
      "        Mixed  |         2          0 |         2 \n",
      "         Other |        18          0 |        18 \n",
      "        Other  |         1          0 |         1 \n",
      "   Residential |        52          0 |        52 \n",
      "  Residential  |       162          0 |       162 \n",
      "---------------+----------------------+----------\n",
      "         Total |       274         26 |       300 \n"
     ]
    }
   ],
   "source": [
    "gen commercial=0\n",
    "  replace commercial=1 if Primarylanduse==\"Commercial\" | Primarylanduse==\"Commercial \" | Primarylanduse==\"commercial\"\n",
    "  label variable commercial \"Commercial uses aligned with gentrification\"\n",
    "tab commercial, m \n",
    "tab Primarylanduse commercial"
   ]
  },
  {
   "cell_type": "code",
   "execution_count": 6,
   "metadata": {},
   "outputs": [
    {
     "name": "stdout",
     "output_type": "stream",
     "text": [
      "\n",
      "\n",
      "(120 real changes made)\n",
      "\n",
      "\n",
      "\n",
      "        New |\n",
      "signs/traff |\n",
      "         ic |\n",
      " structures |      Freq.     Percent        Cum.\n",
      "------------+-----------------------------------\n",
      "          0 |        120       39.60       39.60\n",
      "          1 |        183       60.40      100.00\n",
      "------------+-----------------------------------\n",
      "      Total |        303      100.00\n",
      "\n",
      "\n",
      "       New |\n",
      "signs/stru |\n",
      "    ctures |   New signs/traffic\n",
      "controllli |      structures\n",
      "ng traffic |         0          1 |     Total\n",
      "-----------+----------------------+----------\n",
      "         0 |       120          0 |       120 \n",
      "         1 |         0        180 |       180 \n",
      "-----------+----------------------+----------\n",
      "     Total |       120        180 |       300 \n"
     ]
    }
   ],
   "source": [
    "gen investment_public1=1\n",
    "  replace investment_public1=0 if Newsignsstructurescontrolllin==0\n",
    "  label variable investment_public1 \"New signs/traffic structures\"\n",
    "tab investment_public1, m\n",
    "tab Newsignsstructurescontrolllin investment_public1"
   ]
  },
  {
   "cell_type": "code",
   "execution_count": 7,
   "metadata": {},
   "outputs": [
    {
     "name": "stdout",
     "output_type": "stream",
     "text": [
      "\n",
      "\n",
      "(186 real changes made)\n",
      "\n",
      "\n",
      "\n",
      " New public |\n",
      " courtesies |      Freq.     Percent        Cum.\n",
      "------------+-----------------------------------\n",
      "          0 |        186       61.39       61.39\n",
      "          1 |        117       38.61      100.00\n",
      "------------+-----------------------------------\n",
      "      Total |        303      100.00\n",
      "\n",
      "\n",
      "New public | New public courtesies\n",
      "courtesies |         0          1 |     Total\n",
      "-----------+----------------------+----------\n",
      "         0 |       186          0 |       186 \n",
      "         1 |         0        114 |       114 \n",
      "-----------+----------------------+----------\n",
      "     Total |       186        114 |       300 \n"
     ]
    }
   ],
   "source": [
    "gen investment_public2=1\n",
    "  replace investment_public2=0 if Newpubliccourtesies==0\n",
    "  label variable investment_public2 \"New public courtesies\"\n",
    "tab investment_public2, m\n",
    "tab Newpubliccourtesies investment_public2"
   ]
  },
  {
   "cell_type": "code",
   "execution_count": 8,
   "metadata": {},
   "outputs": [
    {
     "name": "stdout",
     "output_type": "stream",
     "text": [
      "\n",
      "\n",
      "(78 real changes made)\n",
      "\n",
      "\n",
      "\n",
      "Vacant area |\n",
      "   & Public |\n",
      "     street |\n",
      "beautificat |\n",
      "        ion |      Freq.     Percent        Cum.\n",
      "------------+-----------------------------------\n",
      "          0 |        225       74.26       74.26\n",
      "          1 |         78       25.74      100.00\n",
      "------------+-----------------------------------\n",
      "      Total |        303      100.00\n",
      "\n",
      "\n",
      "    Vacant |\n",
      "  area and |\n",
      "    public |\n",
      "    street | Vacant area & Public\n",
      "beutificat | street beautification\n",
      "       ion |         0          1 |     Total\n",
      "-----------+----------------------+----------\n",
      "         0 |       222          0 |       222 \n",
      "         1 |         0         78 |        78 \n",
      "-----------+----------------------+----------\n",
      "     Total |       222         78 |       300 \n"
     ]
    }
   ],
   "source": [
    "gen investment_public3=0\n",
    "  replace investment_public3=1 if Vacantareaandpublicstreetbe==1 \n",
    "  label variable investment_public3 \"Vacant area & Public street beautification\"\n",
    "tab investment_public3, m\n",
    "tab Vacantareaandpublicstreetbe investment_public3"
   ]
  },
  {
   "cell_type": "code",
   "execution_count": 9,
   "metadata": {},
   "outputs": [
    {
     "name": "stdout",
     "output_type": "stream",
     "text": [
      "\n",
      "\n",
      "(83 real changes made)\n",
      "\n",
      "\n",
      "\n",
      "      Signs |\n",
      "discouragin |\n",
      " g disorder |      Freq.     Percent        Cum.\n",
      "------------+-----------------------------------\n",
      "          0 |        220       72.61       72.61\n",
      "          1 |         83       27.39      100.00\n",
      "------------+-----------------------------------\n",
      "      Total |        303      100.00\n",
      "\n",
      "\n",
      "     Signs |\n",
      "discouragi |  Signs discouraging\n",
      "        ng |       disorder\n",
      "  disorder |         0          1 |     Total\n",
      "-----------+----------------------+----------\n",
      "         0 |       217          0 |       217 \n",
      "         1 |         0         83 |        83 \n",
      "-----------+----------------------+----------\n",
      "     Total |       217         83 |       300 \n"
     ]
    }
   ],
   "source": [
    "gen investment_public4=0\n",
    "  replace investment_public4=1 if Signsdiscouragingdisorder==1 \n",
    "  label variable investment_public4 \"Signs discouraging disorder\"\n",
    "tab investment_public4, m\n",
    "tab Signsdiscouragingdisorder investment_public4"
   ]
  },
  {
   "cell_type": "code",
   "execution_count": 10,
   "metadata": {},
   "outputs": [
    {
     "name": "stdout",
     "output_type": "stream",
     "text": [
      "\n",
      "\n",
      "\n",
      "investment_ |\n",
      "     public |      Freq.     Percent        Cum.\n",
      "------------+-----------------------------------\n",
      "          0 |         70       23.10       23.10\n",
      "          1 |         82       27.06       50.17\n",
      "          2 |         89       29.37       79.54\n",
      "          3 |         47       15.51       95.05\n",
      "          4 |         15        4.95      100.00\n",
      "------------+-----------------------------------\n",
      "      Total |        303      100.00\n",
      "\n",
      "\n",
      "                      investment_public\n",
      "-------------------------------------------------------------\n",
      "      Percentiles      Smallest\n",
      " 1%            0              0\n",
      " 5%            0              0\n",
      "10%            0              0       Obs                 303\n",
      "25%            1              0       Sum of Wgt.         303\n",
      "\n",
      "50%            1                      Mean           1.521452\n",
      "                        Largest       Std. Dev.       1.15031\n",
      "75%            2              4\n",
      "90%            3              4       Variance       1.323214\n",
      "95%            3              4       Skewness       .2874256\n",
      "99%            4              4       Kurtosis       2.232371\n"
     ]
    }
   ],
   "source": [
    "gen investment_public = investment_public1 + investment_public2 + investment_public3 + investment_public4\n",
    "tab investment_public\n",
    "sum investment_public, d"
   ]
  },
  {
   "cell_type": "code",
   "execution_count": 11,
   "metadata": {},
   "outputs": [
    {
     "name": "stdout",
     "output_type": "stream",
     "text": [
      "\n",
      "\n",
      "(57 real changes made)\n",
      "\n",
      "\n",
      "\n",
      "     Litter |      Freq.     Percent        Cum.\n",
      "------------+-----------------------------------\n",
      "          0 |        246       81.19       81.19\n",
      "          1 |         57       18.81      100.00\n",
      "------------+-----------------------------------\n",
      "      Total |        303      100.00\n",
      "\n",
      "\n",
      "           |        Litter\n",
      "    Litter |         0          1 |     Total\n",
      "-----------+----------------------+----------\n",
      "         0 |       243          0 |       243 \n",
      "         1 |         0         57 |        57 \n",
      "-----------+----------------------+----------\n",
      "     Total |       243         57 |       300 \n"
     ]
    }
   ],
   "source": [
    "gen disorder_public1=0\n",
    "  replace disorder_public1=1 if Litter==1\n",
    "  label variable disorder_public1 \"Litter\"\n",
    "tab disorder_public1, m\n",
    "tab Litter disorder_public1"
   ]
  },
  {
   "cell_type": "code",
   "execution_count": 12,
   "metadata": {},
   "outputs": [
    {
     "name": "stdout",
     "output_type": "stream",
     "text": [
      "\n",
      "\n",
      "(132 real changes made)\n",
      "\n",
      "\n",
      "\n",
      "    Unkempt |\n",
      "     public |\n",
      "     street |\n",
      "   frontage |      Freq.     Percent        Cum.\n",
      "------------+-----------------------------------\n",
      "          0 |        171       56.44       56.44\n",
      "          1 |        132       43.56      100.00\n",
      "------------+-----------------------------------\n",
      "      Total |        303      100.00\n",
      "\n",
      "\n",
      "   Unkempt |\n",
      "    vacant |\n",
      "   area or | Unkempt public street\n",
      "public st. |       frontage\n",
      "  frontage |         0          1 |     Total\n",
      "-----------+----------------------+----------\n",
      "         0 |       168          0 |       168 \n",
      "         1 |         0        132 |       132 \n",
      "-----------+----------------------+----------\n",
      "     Total |       168        132 |       300 \n"
     ]
    }
   ],
   "source": [
    "gen disorder_public2=0\n",
    "  replace disorder_public2=1 if Unkemptvacantareaorpublicst==1\n",
    "  label variable disorder_public2 \"Unkempt public street frontage\"\n",
    "tab disorder_public2, m\n",
    "tab Unkemptvacantareaorpublicst disorder_public2"
   ]
  },
  {
   "cell_type": "code",
   "execution_count": 13,
   "metadata": {},
   "outputs": [
    {
     "name": "stdout",
     "output_type": "stream",
     "text": [
      "\n",
      "\n",
      "\n",
      "disorder_pu |\n",
      "       blic |      Freq.     Percent        Cum.\n",
      "------------+-----------------------------------\n",
      "          0 |        153       50.50       50.50\n",
      "          1 |        111       36.63       87.13\n",
      "          2 |         39       12.87      100.00\n",
      "------------+-----------------------------------\n",
      "      Total |        303      100.00\n",
      "\n",
      "\n",
      "                       disorder_public\n",
      "-------------------------------------------------------------\n",
      "      Percentiles      Smallest\n",
      " 1%            0              0\n",
      " 5%            0              0\n",
      "10%            0              0       Obs                 303\n",
      "25%            0              0       Sum of Wgt.         303\n",
      "\n",
      "50%            0                      Mean           .6237624\n",
      "                        Largest       Std. Dev.       .702665\n",
      "75%            1              2\n",
      "90%            2              2       Variance       .4937381\n",
      "95%            2              2       Skewness       .6734034\n",
      "99%            2              2       Kurtosis       2.252622\n"
     ]
    }
   ],
   "source": [
    "gen disorder_public = disorder_public1 + disorder_public2\n",
    "tab disorder_public\n",
    "sum disorder_public, d"
   ]
  },
  {
   "cell_type": "code",
   "execution_count": 14,
   "metadata": {},
   "outputs": [
    {
     "name": "stdout",
     "output_type": "stream",
     "text": [
      "file ggocoding.dta saved\n"
     ]
    }
   ],
   "source": [
    "save \"ggocoding.dta\", replace"
   ]
  },
  {
   "cell_type": "code",
   "execution_count": 15,
   "metadata": {},
   "outputs": [],
   "source": [
    "use \"ggocoding.dta\", clear"
   ]
  },
  {
   "cell_type": "code",
   "execution_count": 16,
   "metadata": {},
   "outputs": [
    {
     "name": "stdout",
     "output_type": "stream",
     "text": [
      "\n",
      "Contains data from ggocoding.dta\n",
      "  obs:           303                          \n",
      " vars:            46                          14 Aug 2020 17:56\n",
      "---------------------------------------------------------------------------------------------------------------------------------------------------------------------------------------------------------------------------------------------------------------\n",
      "              storage   display    value\n",
      "variable name   type    format     label      variable label\n",
      "---------------------------------------------------------------------------------------------------------------------------------------------------------------------------------------------------------------------------------------------------------------\n",
      "Tract           double  %10.0g                Tract\n",
      "Observer        str16   %16s                  Observer\n",
      "GoogleorIRL     str12   %12s                  Google or IRL\n",
      "BlockFaceDire~n str20   %20s                  Block Face Direction\n",
      "Streetaddress   str88   %88s                  Street address\n",
      "Imagemonth      str10   %10s                  Image month\n",
      "Imageyear       str10   %10s                  Image year\n",
      "Primarylanduse  str14   %14s                  Primary land use\n",
      "Numberofstruc~s byte    %10.0g                Number of structures\n",
      "NumberofResid~e byte    %10.0g                Number of Residential structures\n",
      "Multifamilyun~s byte    %10.0g                # Multi-family units\n",
      "ofStructuresc~d str2    %9s                   # of Structures considered old:\n",
      "oldresidences~e byte    %10.0g                # old residences w minor upgrades\n",
      "residenceswma~s byte    %10.0g                # residences w major upgrades\n",
      "residenceswne~u byte    %10.0g                # residences w new patio furniture or landscaping\n",
      "ofStructuresw~e byte    %10.0g                # of Structures w metal gates/fences\n",
      "structureswit~o byte    %10.0g                # structures with minor exterior decay\n",
      "structureswit~r byte    %10.0g                # structures with major exterior decay\n",
      "abandonedboar~p byte    %10.0g                # abandoned/ boarded up\n",
      "Newsignsstruc~n byte    %10.0g                New signs/structures controllling traffic\n",
      "Newpubliccour~s byte    %10.0g                New public courtesies\n",
      "Newlargescale~t byte    %10.0g                New large-scale development\n",
      "Signsdiscoura~r byte    %10.0g                Signs discouraging disorder\n",
      "Vacantareaand~e byte    %10.0g                Vacant area and public street beutification\n",
      "Litter          byte    %10.0g                Litter\n",
      "Unkemptvacant~t byte    %10.0g                Unkempt vacant area or public st. frontage\n",
      "Commercialuse~u byte    %10.0g                 Commercial uses aligned w cultural aspects of gentrification\n",
      "DescribeComme~s str46   %46s                  Describe Commercial uses\n",
      "Indicatoroffo~e byte    %10.0g                Indicator of foreign presence\n",
      "Describeindic~p str37   %37s                  Describe indicators of foreign presence\n",
      "Visiblepeople   byte    %10.0g                Visible people?\n",
      "Describevisib~e str182  %182s                 Describe visible people\n",
      "Distinctincon~G str78   %78s                  Distinct inconsistencies among G.S.V images?\n",
      "Yearsavailabl~e str97   %97s                  Years available for block face?\n",
      "Majordifferen~m byte    %10.0g                Major difference b/w previous image yrs. and the most recent yr.?\n",
      "IfyesbrieflyD~e str156  %156s                 If yes, briefly Describe difference b/w image yrs.\n",
      "AK              byte    %10.0g                \n",
      "commercial      float   %9.0g                 Commercial uses aligned with gentrification\n",
      "investment_pu~1 float   %9.0g                 New signs/traffic structures\n",
      "investment_pu~2 float   %9.0g                 New public courtesies\n",
      "investment_pu~3 float   %9.0g                 Vacant area & Public street beautification\n",
      "investment_pu~4 float   %9.0g                 Signs discouraging disorder\n",
      "investment_pu~c float   %9.0g                 \n",
      "disorder_publ~1 float   %9.0g                 Litter\n",
      "disorder_publ~2 float   %9.0g                 Unkempt public street frontage\n",
      "disorder_public float   %9.0g                 \n",
      "---------------------------------------------------------------------------------------------------------------------------------------------------------------------------------------------------------------------------------------------------------------\n",
      "Sorted by: \n"
     ]
    }
   ],
   "source": [
    "describe"
   ]
  },
  {
   "cell_type": "code",
   "execution_count": 17,
   "metadata": {},
   "outputs": [
    {
     "name": "stdout",
     "output_type": "stream",
     "text": [
      "\n",
      "---------------------------------------------------------------------------------------------------------------------------------------------------------------------------------------------------------------------------------------------------------------\n",
      "Numberofstructures                                                                                                                                                                                                                         Number of structures\n",
      "---------------------------------------------------------------------------------------------------------------------------------------------------------------------------------------------------------------------------------------------------------------\n",
      "\n",
      "                  type:  numeric (byte)\n",
      "\n",
      "                 range:  [0,48]                       units:  1\n",
      "         unique values:  31                       missing .:  3/303\n",
      "\n",
      "                  mean:      7.45\n",
      "              std. dev:   7.28315\n",
      "\n",
      "           percentiles:        10%       25%       50%       75%       90%\n",
      "                                 1         2         6        11        16\n",
      "\n",
      "---------------------------------------------------------------------------------------------------------------------------------------------------------------------------------------------------------------------------------------------------------------\n",
      "ofStructuresconsideredold                                                                                                                                                                                                      # of Structures  considered old:\n",
      "---------------------------------------------------------------------------------------------------------------------------------------------------------------------------------------------------------------------------------------------------------------\n",
      "\n",
      "                  type:  string (str2)\n",
      "\n",
      "         unique values:  30                       missing \"\":  3/303\n",
      "\n",
      "              examples:  \"0\"\n",
      "                         \"10\"\n",
      "                         \"18\"\n",
      "                         \"48\"\n"
     ]
    }
   ],
   "source": [
    "codebook Numberofst~s ofStructur~d"
   ]
  },
  {
   "cell_type": "code",
   "execution_count": 18,
   "metadata": {},
   "outputs": [
    {
     "name": "stdout",
     "output_type": "stream",
     "text": [
      "ofStructuresconsideredold: all characters numeric; ofStructuresconsideredold2 generated as byte\n",
      "(3 missing values generated)\n"
     ]
    }
   ],
   "source": [
    "destring ofStructuresconsideredold, gen (ofStructuresconsideredold2)"
   ]
  },
  {
   "cell_type": "code",
   "execution_count": 19,
   "metadata": {},
   "outputs": [
    {
     "name": "stdout",
     "output_type": "stream",
     "text": [
      "\n",
      "       # of |\n",
      " Structures |\n",
      " considered |\n",
      "       old: |      Freq.     Percent        Cum.\n",
      "------------+-----------------------------------\n",
      "          0 |         74       24.67       24.67\n",
      "          1 |         31       10.33       35.00\n",
      "          2 |         17        5.67       40.67\n",
      "          3 |         14        4.67       45.33\n",
      "          4 |         12        4.00       49.33\n",
      "          5 |         20        6.67       56.00\n",
      "          6 |         15        5.00       61.00\n",
      "          7 |          7        2.33       63.33\n",
      "          8 |         16        5.33       68.67\n",
      "          9 |          3        1.00       69.67\n",
      "         10 |         16        5.33       75.00\n",
      "         11 |         13        4.33       79.33\n",
      "         12 |          9        3.00       82.33\n",
      "         13 |          4        1.33       83.67\n",
      "         14 |         12        4.00       87.67\n",
      "         15 |          6        2.00       89.67\n",
      "         16 |          9        3.00       92.67\n",
      "         17 |          1        0.33       93.00\n",
      "         18 |          6        2.00       95.00\n",
      "         19 |          1        0.33       95.33\n",
      "         20 |          3        1.00       96.33\n",
      "         21 |          2        0.67       97.00\n",
      "         22 |          2        0.67       97.67\n",
      "         24 |          1        0.33       98.00\n",
      "         25 |          1        0.33       98.33\n",
      "         26 |          1        0.33       98.67\n",
      "         29 |          1        0.33       99.00\n",
      "         43 |          1        0.33       99.33\n",
      "         45 |          1        0.33       99.67\n",
      "         48 |          1        0.33      100.00\n",
      "------------+-----------------------------------\n",
      "      Total |        300      100.00\n"
     ]
    }
   ],
   "source": [
    "tab ofStructuresconsideredold2"
   ]
  },
  {
   "cell_type": "code",
   "execution_count": 20,
   "metadata": {},
   "outputs": [
    {
     "name": "stdout",
     "output_type": "stream",
     "text": [
      "(30 missing values generated)\n"
     ]
    }
   ],
   "source": [
    "gen new_building = (Numberofstructures - ofStructuresconsideredold2)/Numberofstructures * 100"
   ]
  },
  {
   "cell_type": "code",
   "execution_count": 21,
   "metadata": {},
   "outputs": [
    {
     "name": "stdout",
     "output_type": "stream",
     "text": [
      "\n",
      "new_buildin |\n",
      "          g |      Freq.     Percent        Cum.\n",
      "------------+-----------------------------------\n",
      "          0 |        203       74.36       74.36\n",
      "   3.846154 |          1        0.37       74.73\n",
      "          4 |          1        0.37       75.09\n",
      "   6.666667 |          1        0.37       75.46\n",
      "   7.142857 |          1        0.37       75.82\n",
      "   8.333333 |          1        0.37       76.19\n",
      "   9.090909 |          1        0.37       76.56\n",
      "   11.11111 |          1        0.37       76.92\n",
      "   14.28571 |          1        0.37       77.29\n",
      "   16.66667 |          4        1.47       78.75\n",
      "         20 |          1        0.37       79.12\n",
      "   33.33333 |          1        0.37       79.49\n",
      "         40 |          2        0.73       80.22\n",
      "   45.45454 |          1        0.37       80.59\n",
      "         50 |          2        0.73       81.32\n",
      "   66.66666 |          1        0.37       81.68\n",
      "         75 |          1        0.37       82.05\n",
      "         80 |          1        0.37       82.42\n",
      "   92.59259 |          1        0.37       82.78\n",
      "        100 |         47       17.22      100.00\n",
      "------------+-----------------------------------\n",
      "      Total |        273      100.00\n"
     ]
    }
   ],
   "source": [
    "tab new_building"
   ]
  },
  {
   "cell_type": "code",
   "execution_count": 22,
   "metadata": {},
   "outputs": [
    {
     "name": "stdout",
     "output_type": "stream",
     "text": [
      "\n",
      "(70 differences between new_building and investment_private1)\n",
      "\n",
      "\n",
      "  RECODE of |\n",
      "new_buildin |\n",
      "          g |      Freq.     Percent        Cum.\n",
      "------------+-----------------------------------\n",
      "          0 |        203       74.36       74.36\n",
      "          1 |         70       25.64      100.00\n",
      "------------+-----------------------------------\n",
      "      Total |        273      100.00\n"
     ]
    }
   ],
   "source": [
    "recode new_building (0=0) (1/max=1), gen(investment_private1)\n",
    "tab investment_private1"
   ]
  },
  {
   "cell_type": "code",
   "execution_count": 23,
   "metadata": {},
   "outputs": [
    {
     "name": "stdout",
     "output_type": "stream",
     "text": [
      "\n",
      "\n",
      "  Number of |\n",
      "Residential |\n",
      " structures |      Freq.     Percent        Cum.\n",
      "------------+-----------------------------------\n",
      "          0 |         73       24.33       24.33\n",
      "          1 |         26        8.67       33.00\n",
      "          2 |         12        4.00       37.00\n",
      "          3 |         17        5.67       42.67\n",
      "          4 |         15        5.00       47.67\n",
      "          5 |         17        5.67       53.33\n",
      "          6 |         15        5.00       58.33\n",
      "          7 |         12        4.00       62.33\n",
      "          8 |         18        6.00       68.33\n",
      "          9 |          4        1.33       69.67\n",
      "         10 |         12        4.00       73.67\n",
      "         11 |         14        4.67       78.33\n",
      "         12 |          8        2.67       81.00\n",
      "         13 |          3        1.00       82.00\n",
      "         14 |         12        4.00       86.00\n",
      "         15 |          8        2.67       88.67\n",
      "         16 |          8        2.67       91.33\n",
      "         17 |          2        0.67       92.00\n",
      "         18 |          6        2.00       94.00\n",
      "         19 |          1        0.33       94.33\n",
      "         20 |          3        1.00       95.33\n",
      "         21 |          3        1.00       96.33\n",
      "         22 |          2        0.67       97.00\n",
      "         24 |          2        0.67       97.67\n",
      "         26 |          2        0.67       98.33\n",
      "         27 |          1        0.33       98.67\n",
      "         29 |          1        0.33       99.00\n",
      "         43 |          1        0.33       99.33\n",
      "         45 |          1        0.33       99.67\n",
      "         48 |          1        0.33      100.00\n",
      "------------+-----------------------------------\n",
      "      Total |        300      100.00\n",
      "\n",
      "\n",
      "          # |\n",
      " residences |\n",
      "w new patio |\n",
      "  furniture |\n",
      "         or |\n",
      "landscaping |      Freq.     Percent        Cum.\n",
      "------------+-----------------------------------\n",
      "          0 |        155       51.67       51.67\n",
      "          1 |         41       13.67       65.33\n",
      "          2 |         31       10.33       75.67\n",
      "          3 |         26        8.67       84.33\n",
      "          4 |         12        4.00       88.33\n",
      "          5 |         11        3.67       92.00\n",
      "          6 |         13        4.33       96.33\n",
      "          7 |          3        1.00       97.33\n",
      "          8 |          1        0.33       97.67\n",
      "          9 |          2        0.67       98.33\n",
      "         10 |          1        0.33       98.67\n",
      "         12 |          1        0.33       99.00\n",
      "         13 |          1        0.33       99.33\n",
      "         15 |          1        0.33       99.67\n",
      "         17 |          1        0.33      100.00\n",
      "------------+-----------------------------------\n",
      "      Total |        300      100.00\n"
     ]
    }
   ],
   "source": [
    "tab NumberofReside\n",
    "tab residenceswnewpatiofurnitu"
   ]
  },
  {
   "cell_type": "code",
   "execution_count": 24,
   "metadata": {},
   "outputs": [
    {
     "name": "stdout",
     "output_type": "stream",
     "text": [
      "\n",
      "(76 missing values generated)\n",
      "\n",
      "\n",
      "  new_patio |      Freq.     Percent        Cum.\n",
      "------------+-----------------------------------\n",
      "          0 |         83       36.56       36.56\n",
      "   4.444445 |          1        0.44       37.00\n",
      "       6.25 |          1        0.44       37.44\n",
      "   6.666667 |          2        0.88       38.33\n",
      "   7.407407 |          1        0.44       38.77\n",
      "   7.692307 |          1        0.44       39.21\n",
      "   8.333333 |          1        0.44       39.65\n",
      "   9.523809 |          2        0.88       40.53\n",
      "         10 |          5        2.20       42.73\n",
      "   10.52632 |          1        0.44       43.17\n",
      "   11.11111 |          1        0.44       43.61\n",
      "       12.5 |          3        1.32       44.93\n",
      "   13.33333 |          1        0.44       45.37\n",
      "   14.28571 |          5        2.20       47.58\n",
      "   16.66667 |          7        3.08       50.66\n",
      "   18.18182 |          5        2.20       52.86\n",
      "      18.75 |          2        0.88       53.74\n",
      "         20 |          7        3.08       56.83\n",
      "   20.83333 |          1        0.44       57.27\n",
      "   21.42857 |          3        1.32       58.59\n",
      "   22.22222 |          3        1.32       59.91\n",
      "         25 |          8        3.52       63.44\n",
      "   27.27273 |          4        1.76       65.20\n",
      "   27.77778 |          1        0.44       65.64\n",
      "   28.57143 |          6        2.64       68.28\n",
      "         30 |          2        0.88       69.16\n",
      "      31.25 |          2        0.88       70.04\n",
      "   33.33333 |          5        2.20       72.25\n",
      "   35.29412 |          1        0.44       72.69\n",
      "   35.71429 |          1        0.44       73.13\n",
      "       37.5 |          2        0.88       74.01\n",
      "         40 |          6        2.64       76.65\n",
      "   42.85714 |          4        1.76       78.41\n",
      "   45.45454 |          1        0.44       78.85\n",
      "   46.15385 |          1        0.44       79.30\n",
      "         50 |         14        6.17       85.46\n",
      "   51.72414 |          1        0.44       85.90\n",
      "   53.33333 |          1        0.44       86.34\n",
      "   54.54546 |          3        1.32       87.67\n",
      "      56.25 |          1        0.44       88.11\n",
      "   58.33333 |          1        0.44       88.55\n",
      "         60 |          3        1.32       89.87\n",
      "   63.63636 |          1        0.44       90.31\n",
      "   66.66666 |          4        1.76       92.07\n",
      "   70.83334 |          1        0.44       92.51\n",
      "   71.42857 |          1        0.44       92.95\n",
      "   72.22222 |          1        0.44       93.39\n",
      "         75 |          3        1.32       94.71\n",
      "   83.33334 |          1        0.44       95.15\n",
      "   85.71429 |          1        0.44       95.59\n",
      "       87.5 |          1        0.44       96.04\n",
      "        100 |          9        3.96      100.00\n",
      "------------+-----------------------------------\n",
      "      Total |        227      100.00\n",
      "\n",
      "\n",
      "    Variable |        Obs        Mean    Std. Dev.       Min        Max\n",
      "-------------+---------------------------------------------------------\n",
      "   new_patio |        227    23.93564    27.05973          0        100\n"
     ]
    }
   ],
   "source": [
    "gen new_patio = residenceswnewpatiofurnitu / NumberofReside * 100\n",
    "tab new_patio\n",
    "sum new_patio"
   ]
  },
  {
   "cell_type": "code",
   "execution_count": 25,
   "metadata": {},
   "outputs": [
    {
     "name": "stdout",
     "output_type": "stream",
     "text": [
      "\n",
      "(144 differences between new_patio and investment_private2)\n",
      "\n",
      "\n",
      "  RECODE of |\n",
      "  new_patio |      Freq.     Percent        Cum.\n",
      "------------+-----------------------------------\n",
      "          0 |         83       36.56       36.56\n",
      "          1 |        144       63.44      100.00\n",
      "------------+-----------------------------------\n",
      "      Total |        227      100.00\n"
     ]
    }
   ],
   "source": [
    "recode new_patio (0=0) (1/max=1), gen(investment_private2)\n",
    "tab investment_private2"
   ]
  },
  {
   "cell_type": "code",
   "execution_count": 26,
   "metadata": {},
   "outputs": [
    {
     "name": "stdout",
     "output_type": "stream",
     "text": [
      "\n",
      "\n",
      "  Number of |\n",
      "Residential |\n",
      " structures |      Freq.     Percent        Cum.\n",
      "------------+-----------------------------------\n",
      "          0 |         73       24.33       24.33\n",
      "          1 |         26        8.67       33.00\n",
      "          2 |         12        4.00       37.00\n",
      "          3 |         17        5.67       42.67\n",
      "          4 |         15        5.00       47.67\n",
      "          5 |         17        5.67       53.33\n",
      "          6 |         15        5.00       58.33\n",
      "          7 |         12        4.00       62.33\n",
      "          8 |         18        6.00       68.33\n",
      "          9 |          4        1.33       69.67\n",
      "         10 |         12        4.00       73.67\n",
      "         11 |         14        4.67       78.33\n",
      "         12 |          8        2.67       81.00\n",
      "         13 |          3        1.00       82.00\n",
      "         14 |         12        4.00       86.00\n",
      "         15 |          8        2.67       88.67\n",
      "         16 |          8        2.67       91.33\n",
      "         17 |          2        0.67       92.00\n",
      "         18 |          6        2.00       94.00\n",
      "         19 |          1        0.33       94.33\n",
      "         20 |          3        1.00       95.33\n",
      "         21 |          3        1.00       96.33\n",
      "         22 |          2        0.67       97.00\n",
      "         24 |          2        0.67       97.67\n",
      "         26 |          2        0.67       98.33\n",
      "         27 |          1        0.33       98.67\n",
      "         29 |          1        0.33       99.00\n",
      "         43 |          1        0.33       99.33\n",
      "         45 |          1        0.33       99.67\n",
      "         48 |          1        0.33      100.00\n",
      "------------+-----------------------------------\n",
      "      Total |        300      100.00\n",
      "\n",
      "\n",
      "          # |\n",
      " residences |\n",
      "    w major |\n",
      "   upgrades |      Freq.     Percent        Cum.\n",
      "------------+-----------------------------------\n",
      "          0 |        274       91.33       91.33\n",
      "          1 |         18        6.00       97.33\n",
      "          2 |          3        1.00       98.33\n",
      "          4 |          1        0.33       98.67\n",
      "          5 |          1        0.33       99.00\n",
      "          7 |          1        0.33       99.33\n",
      "         12 |          1        0.33       99.67\n",
      "         14 |          1        0.33      100.00\n",
      "------------+-----------------------------------\n",
      "      Total |        300      100.00\n"
     ]
    }
   ],
   "source": [
    "tab NumberofReside \n",
    "tab residenceswmajorupgrades"
   ]
  },
  {
   "cell_type": "code",
   "execution_count": 27,
   "metadata": {},
   "outputs": [
    {
     "name": "stdout",
     "output_type": "stream",
     "text": [
      "\n",
      "(76 missing values generated)\n",
      "\n",
      "\n",
      "major_upgra |\n",
      "         de |      Freq.     Percent        Cum.\n",
      "------------+-----------------------------------\n",
      "          0 |        206       90.75       90.75\n",
      "   8.333333 |          2        0.88       91.63\n",
      "         10 |          1        0.44       92.07\n",
      "   16.66667 |          1        0.44       92.51\n",
      "         25 |          1        0.44       92.95\n",
      "   33.33333 |          2        0.88       93.83\n",
      "         40 |          1        0.44       94.27\n",
      "         50 |          1        0.44       94.71\n",
      "   71.42857 |          1        0.44       95.15\n",
      "        100 |          9        3.96       99.12\n",
      "        300 |          1        0.44       99.56\n",
      "        700 |          1        0.44      100.00\n",
      "------------+-----------------------------------\n",
      "      Total |        227      100.00\n",
      "\n",
      "\n",
      "    Variable |        Obs        Mean    Std. Dev.       Min        Max\n",
      "-------------+---------------------------------------------------------\n",
      "major_upgr~e |        227    9.675897    54.09405          0        700\n"
     ]
    }
   ],
   "source": [
    "gen major_upgrade = residenceswmajorupgrades / NumberofReside * 100\n",
    "tab major_upgrade\n",
    "sum major_upgrade"
   ]
  },
  {
   "cell_type": "code",
   "execution_count": 28,
   "metadata": {},
   "outputs": [
    {
     "name": "stdout",
     "output_type": "stream",
     "text": [
      "\n",
      "(21 differences between major_upgrade and major_upgrade2)\n",
      "\n",
      "(76 missing values generated)\n",
      "\n",
      "\n",
      "investment_ |\n",
      "   private3 |      Freq.     Percent        Cum.\n",
      "------------+-----------------------------------\n",
      "          0 |        206       90.75       90.75\n",
      "          2 |         21        9.25      100.00\n",
      "------------+-----------------------------------\n",
      "      Total |        227      100.00\n"
     ]
    }
   ],
   "source": [
    "recode major_upgrade (0=0) (1/max=1), gen(major_upgrade2)\n",
    "gen investment_private3 = major_upgrade2 * 2\n",
    "  tab investment_private3"
   ]
  },
  {
   "cell_type": "code",
   "execution_count": 29,
   "metadata": {},
   "outputs": [
    {
     "name": "stdout",
     "output_type": "stream",
     "text": [
      "\n",
      "      # old |\n",
      " residences |\n",
      "    w minor |\n",
      "  upgrades  |      Freq.     Percent        Cum.\n",
      "------------+-----------------------------------\n",
      "          0 |        184       61.33       61.33\n",
      "          1 |         63       21.00       82.33\n",
      "          2 |         20        6.67       89.00\n",
      "          3 |         14        4.67       93.67\n",
      "          4 |         10        3.33       97.00\n",
      "          5 |          1        0.33       97.33\n",
      "          6 |          1        0.33       97.67\n",
      "          7 |          2        0.67       98.33\n",
      "         10 |          1        0.33       98.67\n",
      "         13 |          1        0.33       99.00\n",
      "         25 |          1        0.33       99.33\n",
      "         28 |          1        0.33       99.67\n",
      "         30 |          1        0.33      100.00\n",
      "------------+-----------------------------------\n",
      "      Total |        300      100.00\n"
     ]
    }
   ],
   "source": [
    "tab oldresidenceswmino"
   ]
  },
  {
   "cell_type": "code",
   "execution_count": 30,
   "metadata": {},
   "outputs": [
    {
     "name": "stdout",
     "output_type": "stream",
     "text": [
      "\n",
      "(76 missing values generated)\n",
      "\n",
      "\n",
      "minor_upgra |\n",
      "         de |      Freq.     Percent        Cum.\n",
      "------------+-----------------------------------\n",
      "          0 |        117       51.54       51.54\n",
      "   3.448276 |          1        0.44       51.98\n",
      "   3.846154 |          1        0.44       52.42\n",
      "   4.545455 |          1        0.44       52.86\n",
      "   4.761905 |          1        0.44       53.30\n",
      "          5 |          1        0.44       53.74\n",
      "   5.555555 |          1        0.44       54.19\n",
      "       6.25 |          1        0.44       54.63\n",
      "   6.666667 |          1        0.44       55.07\n",
      "   7.142857 |          2        0.88       55.95\n",
      "   7.692307 |          1        0.44       56.39\n",
      "   9.090909 |          3        1.32       57.71\n",
      "         10 |          5        2.20       59.91\n",
      "   11.11111 |          3        1.32       61.23\n",
      "       12.5 |          6        2.64       63.88\n",
      "   13.33333 |          1        0.44       64.32\n",
      "   13.63636 |          1        0.44       64.76\n",
      "   14.28571 |          6        2.64       67.40\n",
      "   15.38461 |          1        0.44       67.84\n",
      "   16.66667 |          7        3.08       70.93\n",
      "   18.18182 |          3        1.32       72.25\n",
      "      18.75 |          2        0.88       73.13\n",
      "         20 |         10        4.41       77.53\n",
      "   21.42857 |          1        0.44       77.97\n",
      "         25 |         11        4.85       82.82\n",
      "   27.27273 |          1        0.44       83.26\n",
      "   28.57143 |          2        0.88       84.14\n",
      "         30 |          1        0.44       84.58\n",
      "   30.76923 |          1        0.44       85.02\n",
      "   33.33333 |          7        3.08       88.11\n",
      "   36.36364 |          2        0.88       88.99\n",
      "         40 |          1        0.44       89.43\n",
      "   42.85714 |          1        0.44       89.87\n",
      "      43.75 |          1        0.44       90.31\n",
      "   45.45454 |          1        0.44       90.75\n",
      "   46.66667 |          1        0.44       91.19\n",
      "         50 |          5        2.20       93.39\n",
      "   52.63158 |          1        0.44       93.83\n",
      "   55.55556 |          1        0.44       94.27\n",
      "       62.5 |          1        0.44       94.71\n",
      "   65.11628 |          1        0.44       95.15\n",
      "   66.66666 |          2        0.88       96.04\n",
      "        100 |          9        3.96      100.00\n",
      "------------+-----------------------------------\n",
      "      Total |        227      100.00\n"
     ]
    }
   ],
   "source": [
    "gen minor_upgrade = oldresidenceswmino / NumberofReside * 100\n",
    "tab minor_upgrade"
   ]
  },
  {
   "cell_type": "code",
   "execution_count": 31,
   "metadata": {},
   "outputs": [
    {
     "name": "stdout",
     "output_type": "stream",
     "text": [
      "\n",
      "(110 differences between minor_upgrade and investment_private4)\n",
      "\n",
      "\n",
      "  RECODE of |\n",
      "minor_upgra |\n",
      "         de |      Freq.     Percent        Cum.\n",
      "------------+-----------------------------------\n",
      "          0 |        117       51.54       51.54\n",
      "          1 |        110       48.46      100.00\n",
      "------------+-----------------------------------\n",
      "      Total |        227      100.00\n"
     ]
    }
   ],
   "source": [
    "recode minor_upgrade (0=0) (1/max=1), gen(investment_private4)\n",
    "tab investment_private4"
   ]
  },
  {
   "cell_type": "code",
   "execution_count": 32,
   "metadata": {},
   "outputs": [
    {
     "name": "stdout",
     "output_type": "stream",
     "text": [
      "\n",
      "        New |\n",
      "large-scale |\n",
      "development |      Freq.     Percent        Cum.\n",
      "------------+-----------------------------------\n",
      "          0 |        260       86.67       86.67\n",
      "          1 |         40       13.33      100.00\n",
      "------------+-----------------------------------\n",
      "      Total |        300      100.00\n"
     ]
    }
   ],
   "source": [
    "tab Newlargescaledevelopment"
   ]
  },
  {
   "cell_type": "code",
   "execution_count": 33,
   "metadata": {},
   "outputs": [
    {
     "name": "stdout",
     "output_type": "stream",
     "text": [
      "\n",
      "\n",
      "(40 real changes made)\n",
      "\n",
      "\n",
      "large_devel |\n",
      "     opment |      Freq.     Percent        Cum.\n",
      "------------+-----------------------------------\n",
      "          0 |        263       86.80       86.80\n",
      "          1 |         40       13.20      100.00\n",
      "------------+-----------------------------------\n",
      "      Total |        303      100.00\n"
     ]
    }
   ],
   "source": [
    "gen large_development = 0\n",
    "  replace large_development = 1 if Newlargescaledevelopment==1\n",
    "  tab large_development"
   ]
  },
  {
   "cell_type": "code",
   "execution_count": 34,
   "metadata": {},
   "outputs": [
    {
     "name": "stdout",
     "output_type": "stream",
     "text": [
      "\n",
      "\n",
      "\n",
      "investment_ |\n",
      "   private5 |      Freq.     Percent        Cum.\n",
      "------------+-----------------------------------\n",
      "          0 |        263       86.80       86.80\n",
      "          3 |         40       13.20      100.00\n",
      "------------+-----------------------------------\n",
      "      Total |        303      100.00\n"
     ]
    }
   ],
   "source": [
    "gen investment_private5 = large_development * 3\n",
    "tab investment_private5"
   ]
  },
  {
   "cell_type": "code",
   "execution_count": 35,
   "metadata": {},
   "outputs": [
    {
     "name": "stdout",
     "output_type": "stream",
     "text": [
      "\n",
      "\n",
      "\n",
      "\n",
      "\n",
      "\n",
      "\n",
      "    Variable |        Obs        Mean    Std. Dev.       Min        Max\n",
      "-------------+---------------------------------------------------------\n",
      "investmen~e1 |        273    .2564103    .4374529          0          1\n",
      "investmen~e2 |        227    .6343612    .4826732          0          1\n",
      "investmen~e3 |        227     .185022    .5807726          0          2\n",
      "investmen~e4 |        227    .4845815    .5008667          0          1\n",
      "investment~5 |        303    .3960396    1.017195          0          3\n"
     ]
    }
   ],
   "source": [
    " label variable investment_private1 \"% new buildings\"\n",
    "  label variable investment_private2 \"% new patio furniture or landscaping\"\n",
    "  label variable investment_private3 \"% major upgrades\"\n",
    "  label variable investment_private4 \"% minor upgrades\"\n",
    "  label variable investment_private5 \"Large-scale new development\"\n",
    "\n",
    "sum investment_private*"
   ]
  },
  {
   "cell_type": "code",
   "execution_count": 36,
   "metadata": {},
   "outputs": [
    {
     "name": "stdout",
     "output_type": "stream",
     "text": [
      "\n",
      "(77 missing values generated)\n",
      "\n",
      "\n",
      "    Variable |        Obs        Mean    Std. Dev.       Min        Max\n",
      "-------------+---------------------------------------------------------\n",
      "investment~e |        226    1.880531    1.545997          0          7\n"
     ]
    }
   ],
   "source": [
    "gen investment_private = investment_private1 + investment_private2 + investment_private3 + investment_private4 + investment_private5\n",
    "sum investment_private"
   ]
  },
  {
   "cell_type": "code",
   "execution_count": 37,
   "metadata": {},
   "outputs": [
    {
     "name": "stdout",
     "output_type": "stream",
     "text": [
      "\n",
      "\n",
      "          # |\n",
      " structures |\n",
      " with minor |\n",
      "   exterior |\n",
      "      decay |      Freq.     Percent        Cum.\n",
      "------------+-----------------------------------\n",
      "          0 |        104       34.67       34.67\n",
      "          1 |         50       16.67       51.33\n",
      "          2 |         29        9.67       61.00\n",
      "          3 |         20        6.67       67.67\n",
      "          4 |         28        9.33       77.00\n",
      "          5 |         13        4.33       81.33\n",
      "          6 |         13        4.33       85.67\n",
      "          7 |          7        2.33       88.00\n",
      "          8 |          5        1.67       89.67\n",
      "          9 |          8        2.67       92.33\n",
      "         10 |         11        3.67       96.00\n",
      "         11 |          3        1.00       97.00\n",
      "         12 |          2        0.67       97.67\n",
      "         13 |          1        0.33       98.00\n",
      "         17 |          1        0.33       98.33\n",
      "         20 |          1        0.33       98.67\n",
      "         22 |          2        0.67       99.33\n",
      "         26 |          1        0.33       99.67\n",
      "         29 |          1        0.33      100.00\n",
      "------------+-----------------------------------\n",
      "      Total |        300      100.00\n",
      "\n",
      "\n",
      "          # |\n",
      " structures |\n",
      " with major |\n",
      "   exterior |\n",
      "      decay |      Freq.     Percent        Cum.\n",
      "------------+-----------------------------------\n",
      "          0 |        267       89.00       89.00\n",
      "          1 |         26        8.67       97.67\n",
      "          2 |          4        1.33       99.00\n",
      "          3 |          3        1.00      100.00\n",
      "------------+-----------------------------------\n",
      "      Total |        300      100.00\n"
     ]
    }
   ],
   "source": [
    "tab structureswithmino\n",
    "tab structureswithmajorexterior"
   ]
  },
  {
   "cell_type": "code",
   "execution_count": 38,
   "metadata": {},
   "outputs": [
    {
     "name": "stdout",
     "output_type": "stream",
     "text": [
      "\n",
      "(30 missing values generated)\n",
      "\n",
      "(30 missing values generated)\n",
      "\n",
      "\n",
      "minor_decay |      Freq.     Percent        Cum.\n",
      "------------+-----------------------------------\n",
      "          0 |         77       28.21       28.21\n",
      "   8.333333 |          1        0.37       28.57\n",
      "   9.090909 |          2        0.73       29.30\n",
      "         10 |          2        0.73       30.04\n",
      "   11.11111 |          1        0.37       30.40\n",
      "   11.76471 |          1        0.37       30.77\n",
      "       12.5 |          1        0.37       31.14\n",
      "   14.28571 |          1        0.37       31.50\n",
      "   16.66667 |          3        1.10       32.60\n",
      "   18.18182 |          3        1.10       33.70\n",
      "      18.75 |          1        0.37       34.07\n",
      "         20 |          8        2.93       37.00\n",
      "   21.05263 |          1        0.37       37.36\n",
      "   21.42857 |          1        0.37       37.73\n",
      "   22.22222 |          1        0.37       38.10\n",
      "         25 |          6        2.20       40.29\n",
      "   26.66667 |          2        0.73       41.03\n",
      "   26.92308 |          1        0.37       41.39\n",
      "   27.27273 |          2        0.73       42.12\n",
      "   27.58621 |          1        0.37       42.49\n",
      "   27.77778 |          1        0.37       42.86\n",
      "   28.57143 |          5        1.83       44.69\n",
      "   33.33333 |         15        5.49       50.18\n",
      "   36.36364 |          1        0.37       50.55\n",
      "       37.5 |          3        1.10       51.65\n",
      "   38.46154 |          1        0.37       52.01\n",
      "         40 |          8        2.93       54.95\n",
      "   41.66667 |          2        0.73       55.68\n",
      "   42.85714 |          2        0.73       56.41\n",
      "      43.75 |          1        0.37       56.78\n",
      "   44.44444 |          1        0.37       57.14\n",
      "   45.45454 |          1        0.37       57.51\n",
      "   46.66667 |          1        0.37       57.88\n",
      "   47.61905 |          1        0.37       58.24\n",
      "         50 |         21        7.69       65.93\n",
      "   51.16279 |          1        0.37       66.30\n",
      "   54.54546 |          2        0.73       67.03\n",
      "   55.55556 |          1        0.37       67.40\n",
      "      56.25 |          1        0.37       67.77\n",
      "   57.14286 |          1        0.37       68.13\n",
      "   57.77778 |          1        0.37       68.50\n",
      "   58.33333 |          1        0.37       68.86\n",
      "         60 |          8        2.93       71.79\n",
      "   60.41667 |          1        0.37       72.16\n",
      "   61.11111 |          1        0.37       72.53\n",
      "       62.5 |          4        1.47       73.99\n",
      "   63.63636 |          1        0.37       74.36\n",
      "   64.28571 |          3        1.10       75.46\n",
      "   66.66666 |          5        1.83       77.29\n",
      "      68.75 |          1        0.37       77.66\n",
      "   71.42857 |          4        1.47       79.12\n",
      "   72.72727 |          1        0.37       79.49\n",
      "   73.33334 |          1        0.37       79.85\n",
      "         75 |          7        2.56       82.42\n",
      "   76.92308 |          2        0.73       83.15\n",
      "   77.77778 |          1        0.37       83.52\n",
      "         80 |          7        2.56       86.08\n",
      "   80.95238 |          1        0.37       86.45\n",
      "      81.25 |          1        0.37       86.81\n",
      "   81.81818 |          1        0.37       87.18\n",
      "   83.33334 |          2        0.73       87.91\n",
      "   85.71429 |          1        0.37       88.28\n",
      "         90 |          1        0.37       88.64\n",
      "        100 |         31       11.36      100.00\n",
      "------------+-----------------------------------\n",
      "      Total |        273      100.00\n",
      "\n",
      "\n",
      "major_decay |      Freq.     Percent        Cum.\n",
      "------------+-----------------------------------\n",
      "          0 |        240       87.91       87.91\n",
      "   3.448276 |          1        0.37       88.28\n",
      "          4 |          1        0.37       88.64\n",
      "   5.555555 |          1        0.37       89.01\n",
      "   6.666667 |          1        0.37       89.38\n",
      "   7.142857 |          1        0.37       89.74\n",
      "   8.333333 |          2        0.73       90.48\n",
      "   9.090909 |          2        0.73       91.21\n",
      "         10 |          2        0.73       91.94\n",
      "   11.11111 |          1        0.37       92.31\n",
      "       12.5 |          3        1.10       93.41\n",
      "   14.28571 |          2        0.73       94.14\n",
      "   16.66667 |          2        0.73       94.87\n",
      "   18.18182 |          1        0.37       95.24\n",
      "         20 |          3        1.10       96.34\n",
      "         25 |          2        0.73       97.07\n",
      "         30 |          1        0.37       97.44\n",
      "   33.33333 |          2        0.73       98.17\n",
      "       37.5 |          1        0.37       98.53\n",
      "         50 |          1        0.37       98.90\n",
      "        100 |          3        1.10      100.00\n",
      "------------+-----------------------------------\n",
      "      Total |        273      100.00\n"
     ]
    }
   ],
   "source": [
    "gen minor_decay = structureswithmino / Numberofstructures * 100\n",
    "gen major_decay = structureswithmajorexterior / Numberofstructures * 100\n",
    "  tab minor_decay\n",
    "  tab major_decay"
   ]
  },
  {
   "cell_type": "code",
   "execution_count": 39,
   "metadata": {},
   "outputs": [
    {
     "name": "stdout",
     "output_type": "stream",
     "text": [
      "\n",
      "(196 differences between minor_decay and disorder_private1)\n",
      "\n",
      "\n",
      "\n",
      "    % minor |\n",
      "      decay |      Freq.     Percent        Cum.\n",
      "------------+-----------------------------------\n",
      "          0 |         77       28.21       28.21\n",
      "          1 |        196       71.79      100.00\n",
      "------------+-----------------------------------\n",
      "      Total |        273      100.00\n"
     ]
    }
   ],
   "source": [
    "recode minor_decay (0=0) (1/max=1), gen(disorder_private1)\n",
    "  label variable disorder_private1 \"% minor decay\"  \n",
    "  tab disorder_private1  "
   ]
  },
  {
   "cell_type": "code",
   "execution_count": 40,
   "metadata": {},
   "outputs": [
    {
     "name": "stdout",
     "output_type": "stream",
     "text": [
      "\n",
      "(33 differences between major_decay and major_decay2)\n",
      "\n",
      "(30 missing values generated)\n",
      "\n",
      "\n",
      "\n",
      "    % major |\n",
      "      decay |      Freq.     Percent        Cum.\n",
      "------------+-----------------------------------\n",
      "          0 |        240       87.91       87.91\n",
      "          2 |         33       12.09      100.00\n",
      "------------+-----------------------------------\n",
      "      Total |        273      100.00\n"
     ]
    }
   ],
   "source": [
    "recode major_decay (0=0) (1/max=1), gen(major_decay2)\n",
    "gen disorder_private2 = major_decay2 * 2\n",
    "  label variable disorder_private2 \"% major decay\"  \n",
    "  tab disorder_private2"
   ]
  },
  {
   "cell_type": "code",
   "execution_count": 41,
   "metadata": {},
   "outputs": [
    {
     "name": "stdout",
     "output_type": "stream",
     "text": [
      "\n",
      "       # of |\n",
      " Structures |\n",
      "    w metal |\n",
      "gates/fence |\n",
      "          s |      Freq.     Percent        Cum.\n",
      "------------+-----------------------------------\n",
      "          0 |        109       36.33       36.33\n",
      "          1 |         54       18.00       54.33\n",
      "          2 |         44       14.67       69.00\n",
      "          3 |         29        9.67       78.67\n",
      "          4 |         19        6.33       85.00\n",
      "          5 |         13        4.33       89.33\n",
      "          6 |          6        2.00       91.33\n",
      "          7 |          7        2.33       93.67\n",
      "          8 |          4        1.33       95.00\n",
      "          9 |          2        0.67       95.67\n",
      "         10 |          6        2.00       97.67\n",
      "         11 |          1        0.33       98.00\n",
      "         13 |          1        0.33       98.33\n",
      "         14 |          1        0.33       98.67\n",
      "         16 |          1        0.33       99.00\n",
      "         20 |          1        0.33       99.33\n",
      "         30 |          1        0.33       99.67\n",
      "         37 |          1        0.33      100.00\n",
      "------------+-----------------------------------\n",
      "      Total |        300      100.00\n"
     ]
    }
   ],
   "source": [
    "tab ofStructureswmetalgatesfe"
   ]
  },
  {
   "cell_type": "code",
   "execution_count": 42,
   "metadata": {},
   "outputs": [
    {
     "name": "stdout",
     "output_type": "stream",
     "text": [
      "\n",
      "(30 missing values generated)\n",
      "\n",
      "\n",
      "metal_gates |      Freq.     Percent        Cum.\n",
      "------------+-----------------------------------\n",
      "          0 |         82       30.04       30.04\n",
      "   3.448276 |          1        0.37       30.40\n",
      "   4.545455 |          1        0.37       30.77\n",
      "   4.761905 |          2        0.73       31.50\n",
      "   5.882353 |          1        0.37       31.87\n",
      "   6.666667 |          1        0.37       32.23\n",
      "   7.142857 |          1        0.37       32.60\n",
      "   7.407407 |          1        0.37       32.97\n",
      "   7.692307 |          1        0.37       33.33\n",
      "   8.333333 |          1        0.37       33.70\n",
      "   9.090909 |          3        1.10       34.80\n",
      "         10 |          6        2.20       37.00\n",
      "   11.11111 |          2        0.73       37.73\n",
      "       12.5 |          2        0.73       38.46\n",
      "   13.33333 |          2        0.73       39.19\n",
      "   13.63636 |          1        0.37       39.56\n",
      "   14.28571 |          5        1.83       41.39\n",
      "         15 |          1        0.37       41.76\n",
      "   15.38461 |          1        0.37       42.12\n",
      "   16.66667 |          4        1.47       43.59\n",
      "   18.18182 |          1        0.37       43.96\n",
      "      18.75 |          1        0.37       44.32\n",
      "         20 |         10        3.66       47.99\n",
      "   21.42857 |          3        1.10       49.08\n",
      "   22.22222 |          3        1.10       50.18\n",
      "   23.07692 |          2        0.73       50.92\n",
      "         25 |          9        3.30       54.21\n",
      "   27.27273 |          4        1.47       55.68\n",
      "   27.77778 |          1        0.37       56.04\n",
      "   28.57143 |          5        1.83       57.88\n",
      "         30 |          1        0.37       58.24\n",
      "      31.25 |          1        0.37       58.61\n",
      "         32 |          1        0.37       58.97\n",
      "   33.33333 |          7        2.56       61.54\n",
      "   36.36364 |          1        0.37       61.90\n",
      "       37.5 |          3        1.10       63.00\n",
      "         40 |          7        2.56       65.57\n",
      "   41.66667 |          1        0.37       65.93\n",
      "   42.85714 |          2        0.73       66.67\n",
      "      43.75 |          1        0.37       67.03\n",
      "   44.44444 |          3        1.10       68.13\n",
      "   45.45454 |          1        0.37       68.50\n",
      "   46.51163 |          1        0.37       68.86\n",
      "   46.66667 |          1        0.37       69.23\n",
      "         50 |         14        5.13       74.36\n",
      "   52.63158 |          1        0.37       74.73\n",
      "   57.14286 |          1        0.37       75.09\n",
      "   58.33333 |          1        0.37       75.46\n",
      "         60 |          2        0.73       76.19\n",
      "   61.53846 |          1        0.37       76.56\n",
      "       62.5 |          1        0.37       76.92\n",
      "   63.63636 |          1        0.37       77.29\n",
      "   66.66666 |          8        2.93       80.22\n",
      "   71.42857 |          5        1.83       82.05\n",
      "         75 |          4        1.47       83.52\n",
      "   77.08334 |          1        0.37       83.88\n",
      "         80 |          4        1.47       85.35\n",
      "      81.25 |          1        0.37       85.71\n",
      "   82.35294 |          1        0.37       86.08\n",
      "   83.33334 |          2        0.73       86.81\n",
      "       87.5 |          1        0.37       87.18\n",
      "         90 |          1        0.37       87.55\n",
      "   90.90909 |          2        0.73       88.28\n",
      "   91.66666 |          1        0.37       88.64\n",
      "        100 |         31       11.36      100.00\n",
      "------------+-----------------------------------\n",
      "      Total |        273      100.00\n"
     ]
    }
   ],
   "source": [
    "gen metal_gates = ofStructureswmetalgatesfe / Numberofstructures * 100\n",
    "tab metal_gates\n"
   ]
  },
  {
   "cell_type": "code",
   "execution_count": 43,
   "metadata": {},
   "outputs": [
    {
     "name": "stdout",
     "output_type": "stream",
     "text": [
      "\n",
      "(191 differences between metal_gates and metal_gates2)\n",
      "\n",
      "(30 missing values generated)\n",
      "\n",
      "\n",
      "\n",
      "    % metal |\n",
      "      gates |      Freq.     Percent        Cum.\n",
      "------------+-----------------------------------\n",
      "          0 |         82       30.04       30.04\n",
      "          2 |        191       69.96      100.00\n",
      "------------+-----------------------------------\n",
      "      Total |        273      100.00\n"
     ]
    }
   ],
   "source": [
    "recode metal_gates (0=0) (1/max=1), gen(metal_gates2)\n",
    "gen disorder_private3 = metal_gates2 * 2\n",
    "  label variable disorder_private3 \"% metal gates\" \n",
    "  tab disorder_private3"
   ]
  },
  {
   "cell_type": "code",
   "execution_count": 44,
   "metadata": {},
   "outputs": [
    {
     "name": "stdout",
     "output_type": "stream",
     "text": [
      "\n",
      "          # |\n",
      " abandoned/ |\n",
      " boarded up |      Freq.     Percent        Cum.\n",
      "------------+-----------------------------------\n",
      "          0 |        271       90.33       90.33\n",
      "          1 |         20        6.67       97.00\n",
      "          2 |          4        1.33       98.33\n",
      "          3 |          1        0.33       98.67\n",
      "          4 |          1        0.33       99.00\n",
      "          8 |          1        0.33       99.33\n",
      "         11 |          1        0.33       99.67\n",
      "         16 |          1        0.33      100.00\n",
      "------------+-----------------------------------\n",
      "      Total |        300      100.00\n"
     ]
    }
   ],
   "source": [
    "tab abandonedboardedup"
   ]
  },
  {
   "cell_type": "code",
   "execution_count": 45,
   "metadata": {},
   "outputs": [
    {
     "name": "stdout",
     "output_type": "stream",
     "text": [
      "\n",
      "\n",
      "(271 real changes made)\n",
      "\n",
      "\n",
      "  abandoned |      Freq.     Percent        Cum.\n",
      "------------+-----------------------------------\n",
      "          0 |        271       89.44       89.44\n",
      "          1 |         32       10.56      100.00\n",
      "------------+-----------------------------------\n",
      "      Total |        303      100.00\n"
     ]
    }
   ],
   "source": [
    "gen abandoned = 1\n",
    "  replace abandoned = 0 if abandonedboardedup == 0\n",
    "  tab abandoned"
   ]
  },
  {
   "cell_type": "code",
   "execution_count": 46,
   "metadata": {},
   "outputs": [
    {
     "name": "stdout",
     "output_type": "stream",
     "text": [
      "\n",
      "\n",
      "\n",
      "\n",
      "% abandoned |      Freq.     Percent        Cum.\n",
      "------------+-----------------------------------\n",
      "          0 |        271       89.44       89.44\n",
      "          3 |         32       10.56      100.00\n",
      "------------+-----------------------------------\n",
      "      Total |        303      100.00\n"
     ]
    }
   ],
   "source": [
    "gen disorder_private4 = abandoned * 3\n",
    "  label variable disorder_private4 \"% abandoned\" \n",
    "  tab disorder_private4"
   ]
  },
  {
   "cell_type": "code",
   "execution_count": 47,
   "metadata": {},
   "outputs": [
    {
     "name": "stdout",
     "output_type": "stream",
     "text": [
      "\n",
      "\n",
      "    Variable |        Obs        Mean    Std. Dev.       Min        Max\n",
      "-------------+---------------------------------------------------------\n",
      "disorder_~e1 |        273    .7179487    .4508246          0          1\n",
      "disorder_~e2 |        273    .2417582    .6531709          0          2\n",
      "disorder_p~3 |        273    1.399267    .9185183          0          2\n",
      "disorder_p~4 |        303    .3168317    .9235408          0          3\n",
      "\n",
      "(30 missing values generated)\n",
      "\n",
      "\n",
      "disorder_pr |\n",
      "      ivate |      Freq.     Percent        Cum.\n",
      "------------+-----------------------------------\n",
      "          0 |         38       13.92       13.92\n",
      "          1 |         34       12.45       26.37\n",
      "          2 |         36       13.19       39.56\n",
      "          3 |        123       45.05       84.62\n",
      "          4 |          2        0.73       85.35\n",
      "          5 |         14        5.13       90.48\n",
      "          6 |         14        5.13       95.60\n",
      "          7 |          2        0.73       96.34\n",
      "          8 |         10        3.66      100.00\n",
      "------------+-----------------------------------\n",
      "      Total |        273      100.00\n"
     ]
    }
   ],
   "source": [
    "sum disorder_private*\n",
    "gen disorder_private = disorder_private1 + disorder_private2 + disorder_private3 + disorder_private4\n",
    "tab disorder_private"
   ]
  },
  {
   "cell_type": "code",
   "execution_count": 48,
   "metadata": {},
   "outputs": [
    {
     "name": "stdout",
     "output_type": "stream",
     "text": [
      "\n",
      "    Variable |        Obs        Mean    Std. Dev.       Min        Max\n",
      "-------------+---------------------------------------------------------\n",
      "  commercial |        303    .0858086    .2805445          0          1\n",
      "investment~c |        303    1.521452     1.15031          0          4\n",
      "investment~e |        226    1.880531    1.545997          0          7\n",
      "disorder_p~c |        303    .6237624     .702665          0          2\n",
      "disorder_p~e |        273    2.677656    1.870469          0          8\n"
     ]
    }
   ],
   "source": [
    "sum commercial investment_public investment_private disorder_public disorder_private"
   ]
  },
  {
   "cell_type": "code",
   "execution_count": 67,
   "metadata": {},
   "outputs": [
    {
     "name": "stdout",
     "output_type": "stream",
     "text": [
      "\n",
      "                    Gentrification score\n",
      "-------------------------------------------------------------\n",
      "      Percentiles      Smallest\n",
      " 1%            2              0\n",
      " 5%            3              1\n",
      "10%            3              2       Obs                 226\n",
      "25%            5              2       Sum of Wgt.         226\n",
      "\n",
      "50%            6                      Mean           6.707965\n",
      "                        Largest       Std. Dev.      2.767049\n",
      "75%            8             13\n",
      "90%           11             14       Variance       7.656559\n",
      "95%           12             14       Skewness       .4169031\n",
      "99%           14             14       Kurtosis       2.792244\n"
     ]
    }
   ],
   "source": [
    "*gen gentrification = commercial + investment_public + investment_private + disorder_public + disorder_private\n",
    "*label variable gentrification \"Gentrification score\"\n",
    "sum gentrification, d"
   ]
  },
  {
   "cell_type": "code",
   "execution_count": 68,
   "metadata": {},
   "outputs": [
    {
     "name": "stdout",
     "output_type": "stream",
     "text": [
      "file ggocoding.dta saved\n"
     ]
    }
   ],
   "source": [
    "save, replace"
   ]
  },
  {
   "cell_type": "code",
   "execution_count": 69,
   "metadata": {},
   "outputs": [],
   "source": [
    "use \"ggocoding.dta\", clear"
   ]
  },
  {
   "cell_type": "code",
   "execution_count": 70,
   "metadata": {},
   "outputs": [
    {
     "name": "stdout",
     "output_type": "stream",
     "text": [
      "\n",
      "Contains data from ggocoding.dta\n",
      "  obs:           303                          \n",
      " vars:            71                          15 Aug 2020 13:55\n",
      "---------------------------------------------------------------------------------------------------------------------------------------------------------------------------------------------------------------------------------------------------------------\n",
      "              storage   display    value\n",
      "variable name   type    format     label      variable label\n",
      "---------------------------------------------------------------------------------------------------------------------------------------------------------------------------------------------------------------------------------------------------------------\n",
      "Tract           double  %10.0g                Tract\n",
      "Observer        str16   %16s                  Observer\n",
      "GoogleorIRL     str12   %12s                  Google or IRL\n",
      "BlockFaceDire~n str20   %20s                  Block Face Direction\n",
      "Streetaddress   str88   %88s                  Street address\n",
      "Imagemonth      str10   %10s                  Image month\n",
      "Imageyear       str10   %10s                  Image year\n",
      "Primarylanduse  str14   %14s                  Primary land use\n",
      "Numberofstruc~s byte    %10.0g                Number of structures\n",
      "NumberofResid~e byte    %10.0g                Number of Residential structures\n",
      "Multifamilyun~s byte    %10.0g                # Multi-family units\n",
      "ofStructuresc~d str2    %9s                   # of Structures considered old:\n",
      "ofStructuresc~2 byte    %10.0g                # of Structures considered old:\n",
      "oldresidences~e byte    %10.0g                # old residences w minor upgrades\n",
      "residenceswma~s byte    %10.0g                # residences w major upgrades\n",
      "residenceswne~u byte    %10.0g                # residences w new patio furniture or landscaping\n",
      "ofStructuresw~e byte    %10.0g                # of Structures w metal gates/fences\n",
      "structureswit~o byte    %10.0g                # structures with minor exterior decay\n",
      "structureswit~r byte    %10.0g                # structures with major exterior decay\n",
      "abandonedboar~p byte    %10.0g                # abandoned/ boarded up\n",
      "Newsignsstruc~n byte    %10.0g                New signs/structures controllling traffic\n",
      "Newpubliccour~s byte    %10.0g                New public courtesies\n",
      "Newlargescale~t byte    %10.0g                New large-scale development\n",
      "Signsdiscoura~r byte    %10.0g                Signs discouraging disorder\n",
      "Vacantareaand~e byte    %10.0g                Vacant area and public street beutification\n",
      "Litter          byte    %10.0g                Litter\n",
      "Unkemptvacant~t byte    %10.0g                Unkempt vacant area or public st. frontage\n",
      "Commercialuse~u byte    %10.0g                 Commercial uses aligned w cultural aspects of gentrification\n",
      "DescribeComme~s str46   %46s                  Describe Commercial uses\n",
      "Indicatoroffo~e byte    %10.0g                Indicator of foreign presence\n",
      "Describeindic~p str37   %37s                  Describe indicators of foreign presence\n",
      "Visiblepeople   byte    %10.0g                Visible people?\n",
      "Describevisib~e str182  %182s                 Describe visible people\n",
      "Distinctincon~G str78   %78s                  Distinct inconsistencies among G.S.V images?\n",
      "Yearsavailabl~e str97   %97s                  Years available for block face?\n",
      "Majordifferen~m byte    %10.0g                Major difference b/w previous image yrs. and the most recent yr.?\n",
      "IfyesbrieflyD~e str156  %156s                 If yes, briefly Describe difference b/w image yrs.\n",
      "AK              byte    %10.0g                \n",
      "commercial      float   %9.0g                 Commercial uses aligned with gentrification\n",
      "investment_pu~1 float   %9.0g                 New signs/traffic structures\n",
      "investment_pu~2 float   %9.0g                 New public courtesies\n",
      "investment_pu~3 float   %9.0g                 Vacant area & Public street beautification\n",
      "investment_pu~4 float   %9.0g                 Signs discouraging disorder\n",
      "investment_pu~c float   %9.0g                 \n",
      "disorder_publ~1 float   %9.0g                 Litter\n",
      "disorder_publ~2 float   %9.0g                 Unkempt public street frontage\n",
      "disorder_public float   %9.0g                 \n",
      "new_building    float   %9.0g                 \n",
      "investment_pr~1 float   %9.0g                 % new buildings\n",
      "new_patio       float   %9.0g                 \n",
      "investment_pr~2 float   %9.0g                 % new patio furniture or landscaping\n",
      "major_upgrade   float   %9.0g                 \n",
      "major_upgrade2  float   %9.0g                 RECODE of major_upgrade\n",
      "investment_pr~3 float   %9.0g                 % major upgrades\n",
      "minor_upgrade   float   %9.0g                 \n",
      "investment_pr~4 float   %9.0g                 % minor upgrades\n",
      "large_develop~t float   %9.0g                 \n",
      "investment_pr~5 float   %9.0g                 Large-scale new development\n",
      "investment_pr~e float   %9.0g                 \n",
      "minor_decay     float   %9.0g                 \n",
      "major_decay     float   %9.0g                 \n",
      "disorder_priv~1 float   %9.0g                 % minor decay\n",
      "major_decay2    float   %9.0g                 RECODE of major_decay\n",
      "disorder_priv~2 float   %9.0g                 % major decay\n",
      "metal_gates     float   %9.0g                 \n",
      "metal_gates2    float   %9.0g                 RECODE of metal_gates\n",
      "disorder_priv~3 float   %9.0g                 % metal gates\n",
      "abandoned       float   %9.0g                 \n",
      "disorder_priv~4 float   %9.0g                 % abandoned\n",
      "disorder_priv~e float   %9.0g                 \n",
      "gentrification  float   %9.0g                 Gentrification score\n",
      "---------------------------------------------------------------------------------------------------------------------------------------------------------------------------------------------------------------------------------------------------------------\n",
      "Sorted by: \n"
     ]
    }
   ],
   "source": [
    "describe"
   ]
  },
  {
   "cell_type": "code",
   "execution_count": 71,
   "metadata": {},
   "outputs": [
    {
     "name": "stdout",
     "output_type": "stream",
     "text": [
      "\n",
      "\n",
      "\n",
      "(3 missing values generated)\n",
      "\n",
      "\n",
      "(3 missing values generated)\n"
     ]
    }
   ],
   "source": [
    "bysort Tract: egen tract_commercial = mean(commercial)\n",
    "bysort Tract: egen tract_investment_public = mean(investment_public)\n",
    "bysort Tract: egen tract_investment_private = mean(investment_private)\n",
    "bysort Tract: egen tract_disorder_public = mean(disorder_public)\n",
    "bysort Tract: egen tract_disorder_private = mean(disorder_private)\n"
   ]
  },
  {
   "cell_type": "code",
   "execution_count": 72,
   "metadata": {},
   "outputs": [
    {
     "name": "stdout",
     "output_type": "stream",
     "text": [
      "\n",
      "    Variable |        Obs        Mean    Std. Dev.       Min        Max\n",
      "-------------+---------------------------------------------------------\n",
      "tract_comm~l |        303    .0858086    .0689362          0   .1652893\n",
      "tract_inve~c |        303    1.521452    .5950899   .9395973   2.198347\n",
      "tract_inve~e |        300    2.127793    .8744702   1.217391   3.186441\n",
      "tract_diso~c |        303    .6237624    .2154757          0   1.233333\n",
      "tract_diso~e |        300    2.589019    .9096005   1.589474    4.37931\n"
     ]
    }
   ],
   "source": [
    "sum tract_commercial tract_investment_public tract_investment_private tract_disorder_public tract_disorder_private"
   ]
  },
  {
   "cell_type": "code",
   "execution_count": 73,
   "metadata": {},
   "outputs": [
    {
     "name": "stdout",
     "output_type": "stream",
     "text": [
      "\n",
      "(3 missing values generated)\n",
      "\n",
      "\n",
      "    Variable |        Obs        Mean    Std. Dev.       Min        Max\n",
      "-------------+---------------------------------------------------------\n",
      "tract_gent~n |        300    6.992803    1.110429   5.895833   8.652174\n"
     ]
    }
   ],
   "source": [
    "bysort Tract: egen tract_gentrification = mean(gentrification)\n",
    "sum tract_gentrification"
   ]
  },
  {
   "cell_type": "code",
   "execution_count": 74,
   "metadata": {},
   "outputs": [
    {
     "name": "stdout",
     "output_type": "stream",
     "text": [
      "file ggocoding.dta saved\n"
     ]
    }
   ],
   "source": [
    "save, replace"
   ]
  },
  {
   "cell_type": "code",
   "execution_count": 78,
   "metadata": {},
   "outputs": [
    {
     "name": "stdout",
     "output_type": "stream",
     "text": [
      "\n",
      "Contains data from ggocoding.dta\n",
      "  obs:           303                          \n",
      " vars:             7                          15 Aug 2020 14:01\n",
      "---------------------------------------------------------------------------------------------------------------------------------------------------------------------------------------------------------------------------------------------------------------\n",
      "              storage   display    value\n",
      "variable name   type    format     label      variable label\n",
      "---------------------------------------------------------------------------------------------------------------------------------------------------------------------------------------------------------------------------------------------------------------\n",
      "tract           double  %10.0g                Tract\n",
      "tract_commerc~l float   %9.0g                 \n",
      "tract_investm~c float   %9.0g                 \n",
      "tract_investm~e float   %9.0g                 \n",
      "tract_disorde~c float   %9.0g                 \n",
      "tract_disorde~e float   %9.0g                 \n",
      "tract_gentrif~n float   %9.0g                 \n",
      "---------------------------------------------------------------------------------------------------------------------------------------------------------------------------------------------------------------------------------------------------------------\n",
      "Sorted by: tract\n",
      "     Note: Dataset has changed since last saved.\n"
     ]
    }
   ],
   "source": [
    "describe"
   ]
  },
  {
   "cell_type": "code",
   "execution_count": 81,
   "metadata": {},
   "outputs": [
    {
     "name": "stdout",
     "output_type": "stream",
     "text": [
      "\n",
      "\n",
      "(note: file tract-level ggo scores.dta not found)\n",
      "file tract-level ggo scores.dta saved\n"
     ]
    }
   ],
   "source": [
    "keep tract tract_commercial tract_investment_public tract_investment_private tract_disorder_public tract_disorder_private tract_gentrification\n",
    "*renamed variable Tract \"tract\"\n",
    "save \"tract-level ggo scores.dta\", replace"
   ]
  },
  {
   "cell_type": "code",
   "execution_count": 82,
   "metadata": {},
   "outputs": [],
   "source": [
    "use \"tract-level ggo scores.dta\", clear"
   ]
  },
  {
   "cell_type": "code",
   "execution_count": 83,
   "metadata": {},
   "outputs": [
    {
     "data": {
      "text/html": [
       "<div>\n",
       "<style scoped>\n",
       "    .dataframe tbody tr th:only-of-type {\n",
       "        vertical-align: middle;\n",
       "    }\n",
       "\n",
       "    .dataframe tbody tr th {\n",
       "        vertical-align: top;\n",
       "    }\n",
       "\n",
       "    .dataframe thead th {\n",
       "        text-align: right;\n",
       "    }\n",
       "</style>\n",
       "<table border=\"1\" class=\"dataframe\">\n",
       "  <thead>\n",
       "    <tr style=\"text-align: right;\">\n",
       "      <th></th>\n",
       "      <th>tract</th>\n",
       "      <th>tract_commercial</th>\n",
       "      <th>tract_investment_public</th>\n",
       "      <th>tract_investment_private</th>\n",
       "      <th>tract_disorder_public</th>\n",
       "      <th>tract_disorder_private</th>\n",
       "      <th>tract_gentrification</th>\n",
       "    </tr>\n",
       "  </thead>\n",
       "  <tbody>\n",
       "    <tr>\n",
       "      <th>1</th>\n",
       "      <td>21.02</td>\n",
       "      <td>.020134227</td>\n",
       "      <td>.93959731</td>\n",
       "      <td>1.4513888</td>\n",
       "      <td>.51677853</td>\n",
       "      <td>3.0402684</td>\n",
       "      <td>5.8958335</td>\n",
       "    </tr>\n",
       "    <tr>\n",
       "      <th>2</th>\n",
       "      <td>21.02</td>\n",
       "      <td>.020134227</td>\n",
       "      <td>.93959731</td>\n",
       "      <td>1.4513888</td>\n",
       "      <td>.51677853</td>\n",
       "      <td>3.0402684</td>\n",
       "      <td>5.8958335</td>\n",
       "    </tr>\n",
       "    <tr>\n",
       "      <th>3</th>\n",
       "      <td>21.02</td>\n",
       "      <td>.020134227</td>\n",
       "      <td>.93959731</td>\n",
       "      <td>1.4513888</td>\n",
       "      <td>.51677853</td>\n",
       "      <td>3.0402684</td>\n",
       "      <td>5.8958335</td>\n",
       "    </tr>\n",
       "    <tr>\n",
       "      <th>4</th>\n",
       "      <td>21.02</td>\n",
       "      <td>.020134227</td>\n",
       "      <td>.93959731</td>\n",
       "      <td>1.4513888</td>\n",
       "      <td>.51677853</td>\n",
       "      <td>3.0402684</td>\n",
       "      <td>5.8958335</td>\n",
       "    </tr>\n",
       "    <tr>\n",
       "      <th>5</th>\n",
       "      <td>21.02</td>\n",
       "      <td>.020134227</td>\n",
       "      <td>.93959731</td>\n",
       "      <td>1.4513888</td>\n",
       "      <td>.51677853</td>\n",
       "      <td>3.0402684</td>\n",
       "      <td>5.8958335</td>\n",
       "    </tr>\n",
       "    <tr>\n",
       "      <th>6</th>\n",
       "      <td>21.02</td>\n",
       "      <td>.020134227</td>\n",
       "      <td>.93959731</td>\n",
       "      <td>1.4513888</td>\n",
       "      <td>.51677853</td>\n",
       "      <td>3.0402684</td>\n",
       "      <td>5.8958335</td>\n",
       "    </tr>\n",
       "    <tr>\n",
       "      <th>7</th>\n",
       "      <td>21.02</td>\n",
       "      <td>.020134227</td>\n",
       "      <td>.93959731</td>\n",
       "      <td>1.4513888</td>\n",
       "      <td>.51677853</td>\n",
       "      <td>3.0402684</td>\n",
       "      <td>5.8958335</td>\n",
       "    </tr>\n",
       "    <tr>\n",
       "      <th>8</th>\n",
       "      <td>21.02</td>\n",
       "      <td>.020134227</td>\n",
       "      <td>.93959731</td>\n",
       "      <td>1.4513888</td>\n",
       "      <td>.51677853</td>\n",
       "      <td>3.0402684</td>\n",
       "      <td>5.8958335</td>\n",
       "    </tr>\n",
       "    <tr>\n",
       "      <th>9</th>\n",
       "      <td>21.02</td>\n",
       "      <td>.020134227</td>\n",
       "      <td>.93959731</td>\n",
       "      <td>1.4513888</td>\n",
       "      <td>.51677853</td>\n",
       "      <td>3.0402684</td>\n",
       "      <td>5.8958335</td>\n",
       "    </tr>\n",
       "    <tr>\n",
       "      <th>10</th>\n",
       "      <td>21.02</td>\n",
       "      <td>.020134227</td>\n",
       "      <td>.93959731</td>\n",
       "      <td>1.4513888</td>\n",
       "      <td>.51677853</td>\n",
       "      <td>3.0402684</td>\n",
       "      <td>5.8958335</td>\n",
       "    </tr>\n",
       "  </tbody>\n",
       "</table>\n",
       "</div>"
      ],
      "text/plain": [
       "\n",
       "     +-------------------------------------------------------------------------+\n",
       "     | tract   tract_~l   tract_..   tract_..   tract_..   tract_..   tract_~n |\n",
       "     |-------------------------------------------------------------------------|\n",
       "  1. | 21.02   .0201342   .9395973   1.451389   .5167785   3.040268   5.895833 |\n",
       "  2. | 21.02   .0201342   .9395973   1.451389   .5167785   3.040268   5.895833 |\n",
       "  3. | 21.02   .0201342   .9395973   1.451389   .5167785   3.040268   5.895833 |\n",
       "  4. | 21.02   .0201342   .9395973   1.451389   .5167785   3.040268   5.895833 |\n",
       "  5. | 21.02   .0201342   .9395973   1.451389   .5167785   3.040268   5.895833 |\n",
       "     |-------------------------------------------------------------------------|\n",
       "  6. | 21.02   .0201342   .9395973   1.451389   .5167785   3.040268   5.895833 |\n",
       "  7. | 21.02   .0201342   .9395973   1.451389   .5167785   3.040268   5.895833 |\n",
       "  8. | 21.02   .0201342   .9395973   1.451389   .5167785   3.040268   5.895833 |\n",
       "  9. | 21.02   .0201342   .9395973   1.451389   .5167785   3.040268   5.895833 |\n",
       " 10. | 21.02   .0201342   .9395973   1.451389   .5167785   3.040268   5.895833 |\n",
       "     +-------------------------------------------------------------------------+\n",
       "\n"
      ]
     },
     "metadata": {},
     "output_type": "display_data"
    }
   ],
   "source": [
    "%head"
   ]
  },
  {
   "cell_type": "code",
   "execution_count": 84,
   "metadata": {},
   "outputs": [
    {
     "name": "stdout",
     "output_type": "stream",
     "text": [
      "\n",
      "Duplicates in terms of tract\n",
      "\n",
      "(299 observations deleted)\n"
     ]
    }
   ],
   "source": [
    "duplicates drop tract, force"
   ]
  },
  {
   "cell_type": "code",
   "execution_count": 85,
   "metadata": {},
   "outputs": [
    {
     "data": {
      "text/html": [
       "<div>\n",
       "<style scoped>\n",
       "    .dataframe tbody tr th:only-of-type {\n",
       "        vertical-align: middle;\n",
       "    }\n",
       "\n",
       "    .dataframe tbody tr th {\n",
       "        vertical-align: top;\n",
       "    }\n",
       "\n",
       "    .dataframe thead th {\n",
       "        text-align: right;\n",
       "    }\n",
       "</style>\n",
       "<table border=\"1\" class=\"dataframe\">\n",
       "  <thead>\n",
       "    <tr style=\"text-align: right;\">\n",
       "      <th></th>\n",
       "      <th>tract</th>\n",
       "      <th>tract_commercial</th>\n",
       "      <th>tract_investment_public</th>\n",
       "      <th>tract_investment_private</th>\n",
       "      <th>tract_disorder_public</th>\n",
       "      <th>tract_disorder_private</th>\n",
       "      <th>tract_gentrification</th>\n",
       "    </tr>\n",
       "  </thead>\n",
       "  <tbody>\n",
       "    <tr>\n",
       "      <th>1</th>\n",
       "      <td>21.02</td>\n",
       "      <td>.020134227</td>\n",
       "      <td>.93959731</td>\n",
       "      <td>1.4513888</td>\n",
       "      <td>.51677853</td>\n",
       "      <td>3.0402684</td>\n",
       "      <td>5.8958335</td>\n",
       "    </tr>\n",
       "    <tr>\n",
       "      <th>2</th>\n",
       "      <td>72</td>\n",
       "      <td>.16528925</td>\n",
       "      <td>2.1983471</td>\n",
       "      <td>3.1864407</td>\n",
       "      <td>.61983472</td>\n",
       "      <td>1.5894737</td>\n",
       "      <td>7.9322033</td>\n",
       "    </tr>\n",
       "    <tr>\n",
       "      <th>3</th>\n",
       "      <td>74.01000000000001</td>\n",
       "      <td>.1</td>\n",
       "      <td>1.6333333</td>\n",
       "      <td>1.2173913</td>\n",
       "      <td>1.2333333</td>\n",
       "      <td>4.3793101</td>\n",
       "      <td>8.652174</td>\n",
       "    </tr>\n",
       "    <tr>\n",
       "      <th>4</th>\n",
       "      <td>.</td>\n",
       "      <td>0</td>\n",
       "      <td>2</td>\n",
       "      <td>.</td>\n",
       "      <td>0</td>\n",
       "      <td>.</td>\n",
       "      <td>.</td>\n",
       "    </tr>\n",
       "  </tbody>\n",
       "</table>\n",
       "</div>"
      ],
      "text/plain": [
       "\n",
       "     +-------------------------------------------------------------------------+\n",
       "     | tract   tract_~l   tract_..   tract_..   tract_..   tract_..   tract_~n |\n",
       "     |-------------------------------------------------------------------------|\n",
       "  1. | 21.02   .0201342   .9395973   1.451389   .5167785   3.040268   5.895833 |\n",
       "  2. |    72   .1652893   2.198347   3.186441   .6198347   1.589474   7.932203 |\n",
       "  3. | 74.01         .1   1.633333   1.217391   1.233333    4.37931   8.652174 |\n",
       "  4. |     .          0          2          .          0          .          . |\n",
       "     +-------------------------------------------------------------------------+\n",
       "\n"
      ]
     },
     "metadata": {},
     "output_type": "display_data"
    }
   ],
   "source": [
    "%head"
   ]
  },
  {
   "cell_type": "code",
   "execution_count": 86,
   "metadata": {},
   "outputs": [
    {
     "name": "stdout",
     "output_type": "stream",
     "text": [
      "file tract-level ggo scores.dta saved\n"
     ]
    }
   ],
   "source": [
    "save, replace"
   ]
  },
  {
   "cell_type": "code",
   "execution_count": 88,
   "metadata": {},
   "outputs": [
    {
     "name": "stdout",
     "output_type": "stream",
     "text": [
      "\n",
      "Contains data from tract-level ggo scores.dta\n",
      "  obs:             4                          \n",
      " vars:             7                          15 Aug 2020 14:12\n",
      "---------------------------------------------------------------------------------------------------------------------------------------------------------------------------------------------------------------------------------------------------------------\n",
      "              storage   display    value\n",
      "variable name   type    format     label      variable label\n",
      "---------------------------------------------------------------------------------------------------------------------------------------------------------------------------------------------------------------------------------------------------------------\n",
      "tract           double  %10.0g                Tract\n",
      "tract_commerc~l float   %9.0g                 \n",
      "tract_investm~c float   %9.0g                 \n",
      "tract_investm~e float   %9.0g                 \n",
      "tract_disorde~c float   %9.0g                 \n",
      "tract_disorde~e float   %9.0g                 \n",
      "tract_gentrif~n float   %9.0g                 \n",
      "---------------------------------------------------------------------------------------------------------------------------------------------------------------------------------------------------------------------------------------------------------------\n",
      "Sorted by: tract\n"
     ]
    }
   ],
   "source": [
    "describe"
   ]
  },
  {
   "cell_type": "code",
   "execution_count": 95,
   "metadata": {},
   "outputs": [
    {
     "name": "stdout",
     "output_type": "stream",
     "text": [
      "\n",
      "    Variable |        Obs        Mean    Std. Dev.       Min        Max\n",
      "-------------+---------------------------------------------------------\n",
      "       tract |          3    55.67667    30.03038      21.02      74.01\n"
     ]
    }
   ],
   "source": [
    "sum tract"
   ]
  },
  {
   "cell_type": "markdown",
   "metadata": {},
   "source": [
    "Reliability tests using factor analysis/correlation/Chronbach's alpha"
   ]
  },
  {
   "cell_type": "code",
   "execution_count": 96,
   "metadata": {},
   "outputs": [
    {
     "name": "stdout",
     "output_type": "stream",
     "text": [
      "\n",
      "(obs=3)\n",
      "(collinear variables specified)\n",
      "\n",
      "Factor analysis/correlation                      Number of obs    =          3\n",
      "    Method: principal factors                    Retained factors =          2\n",
      "    Rotation: (unrotated)                        Number of params =          9\n",
      "\n",
      "    Beware: solution is a Heywood case\n",
      "            (i.e., invalid or boundary values of uniqueness)\n",
      "\n",
      "    --------------------------------------------------------------------------\n",
      "         Factor  |   Eigenvalue   Difference        Proportion   Cumulative\n",
      "    -------------+------------------------------------------------------------\n",
      "        Factor1  |      3.29907      1.59815            0.6598       0.6598\n",
      "        Factor2  |      1.70093      1.70093            0.3402       1.0000\n",
      "        Factor3  |      0.00000      0.00000            0.0000       1.0000\n",
      "        Factor4  |      0.00000      0.00000            0.0000       1.0000\n",
      "        Factor5  |     -0.00000            .           -0.0000       1.0000\n",
      "    --------------------------------------------------------------------------\n",
      "    LR test: independent vs. saturated:  chi2(10) =   54.26 Prob>chi2 = 0.0000\n",
      "\n",
      "Factor loadings (pattern matrix) and unique variances\n",
      "\n",
      "    -------------------------------------------------\n",
      "        Variable |  Factor1   Factor2 |   Uniqueness \n",
      "    -------------+--------------------+--------------\n",
      "    tract_comm~l |   0.8483    0.5295 |     -0.0000  \n",
      "    tract_inve~c |   0.8477    0.5304 |     -0.0000  \n",
      "    tract_inve~e |   0.9912   -0.1321 |      0.0000  \n",
      "    tract_diso~c |  -0.3585    0.9335 |     -0.0000  \n",
      "    tract_diso~e |  -0.8658    0.5003 |      0.0000  \n",
      "    -------------------------------------------------\n",
      "\n",
      "\n",
      "Factor analysis/correlation                      Number of obs    =          3\n",
      "    Method: principal factors                    Retained factors =          2\n",
      "    Rotation: orthogonal varimax (Kaiser off)    Number of params =          9\n",
      "\n",
      "    Beware: solution is a Heywood case\n",
      "            (i.e., invalid or boundary values of uniqueness)\n",
      "\n",
      "    --------------------------------------------------------------------------\n",
      "         Factor  |     Variance   Difference        Proportion   Cumulative\n",
      "    -------------+------------------------------------------------------------\n",
      "        Factor1  |      2.79423      0.58846            0.5588       0.5588\n",
      "        Factor2  |      2.20577            .            0.4412       1.0000\n",
      "    --------------------------------------------------------------------------\n",
      "    LR test: independent vs. saturated:  chi2(10) =   54.26 Prob>chi2 = 0.0000\n",
      "\n",
      "Rotated factor loadings (pattern matrix) and unique variances\n",
      "\n",
      "    -------------------------------------------------\n",
      "        Variable |  Factor1   Factor2 |   Uniqueness \n",
      "    -------------+--------------------+--------------\n",
      "    tract_comm~l |   0.9992   -0.0388 |     -0.0000  \n",
      "    tract_inve~c |   0.9993   -0.0378 |     -0.0000  \n",
      "    tract_inve~e |   0.7456   -0.6664 |      0.0000  \n",
      "    tract_diso~c |   0.2281    0.9736 |     -0.0000  \n",
      "    tract_diso~e |  -0.4349    0.9005 |      0.0000  \n",
      "    -------------------------------------------------\n",
      "\n",
      "Factor rotation matrix\n",
      "\n",
      "    --------------------------------\n",
      "                 | Factor1  Factor2 \n",
      "    -------------+------------------\n",
      "         Factor1 |  0.8271  -0.5620 \n",
      "         Factor2 |  0.5620   0.8271 \n",
      "    --------------------------------\n"
     ]
    }
   ],
   "source": [
    "factor tract_commercial tract_investment_public tract_investment_private tract_disorder_public tract_disorder_private\n",
    "rotate, varimax"
   ]
  },
  {
   "cell_type": "code",
   "execution_count": 91,
   "metadata": {},
   "outputs": [
    {
     "name": "stdout",
     "output_type": "stream",
     "text": [
      "\n",
      "Test scale = mean(unstandardized items)\n",
      "Reversed items:  tract_disorder_public tract_disorder_private\n",
      "\n",
      "Average interitem covariance:     .2830793\n",
      "Number of items in the scale:            5\n",
      "Scale reliability coefficient:      0.7969\n"
     ]
    }
   ],
   "source": [
    "alpha tract_commercial tract_investment_public tract_investment_private tract_disorder_public tract_disorder_private"
   ]
  },
  {
   "cell_type": "code",
   "execution_count": 92,
   "metadata": {},
   "outputs": [
    {
     "name": "stdout",
     "output_type": "stream",
     "text": [
      "\n",
      "             | tract_~l tract_.. tract_.. tract_.. tract_..\n",
      "-------------+---------------------------------------------\n",
      "tract_comm~l |   1.0000 \n",
      "             |\n",
      "             |\n",
      "tract_inve~c |   0.4939   1.0000 \n",
      "             |   0.5061\n",
      "             |\n",
      "tract_inve~e |   0.7709   0.7703   1.0000 \n",
      "             |   0.4396   0.4403\n",
      "             |\n",
      "tract_diso~c |   0.5809  -0.1775  -0.4787   1.0000 \n",
      "             |   0.4191   0.8225   0.6822\n",
      "             |\n",
      "tract_diso~e |  -0.4696  -0.4686  -0.9243   0.7775   1.0000 \n",
      "             |   0.6888   0.6895   0.2492   0.4330\n",
      "             |\n"
     ]
    }
   ],
   "source": [
    "pwcorr tract_commercial tract_investment_public tract_investment_private /// \n",
    "tract_disorder_public tract_disorder_private, sig"
   ]
  },
  {
   "cell_type": "code",
   "execution_count": 93,
   "metadata": {},
   "outputs": [
    {
     "name": "stdout",
     "output_type": "stream",
     "text": [
      "file tract-level ggo scores.dta saved\n"
     ]
    }
   ],
   "source": [
    "save, replace"
   ]
  },
  {
   "cell_type": "code",
   "execution_count": null,
   "metadata": {},
   "outputs": [],
   "source": []
  }
 ],
 "metadata": {
  "kernelspec": {
   "display_name": "Stata",
   "language": "stata",
   "name": "stata"
  },
  "language_info": {
   "codemirror_mode": "stata",
   "file_extension": ".do",
   "mimetype": "text/x-stata",
   "name": "stata",
   "version": "15.1"
  }
 },
 "nbformat": 4,
 "nbformat_minor": 4
}
